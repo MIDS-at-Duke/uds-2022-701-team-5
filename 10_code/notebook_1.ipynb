{
 "cells": [
  {
   "cell_type": "code",
   "execution_count": 126,
   "metadata": {
    "collapsed": true
   },
   "outputs": [],
   "source": [
    "import os\n",
    "import numpy as np\n",
    "import pandas as pd\n",
    "import statsmodels.formula.api as smf\n",
    "from zipfile import ZipFile"
   ]
  },
  {
   "cell_type": "markdown",
   "source": [
    "# Load the data"
   ],
   "metadata": {
    "collapsed": false,
    "pycharm": {
     "name": "#%% md\n"
    }
   }
  },
  {
   "cell_type": "code",
   "execution_count": 151,
   "outputs": [],
   "source": [
    "DATA_PATH = \"../00_source_data\"\n",
    "arrests_data = os.path.join(DATA_PATH, 'ucr_arrests_monthly_all'\n",
    "                                       '_crimes_race_sex_1974_2020_dta.zip')\n",
    "\n",
    "zip_file = ZipFile(arrests_data)\n",
    "dfs = {text_file.filename: pd.read_stata(zip_file.open(text_file.filename))\n",
    "       for text_file in zip_file.infolist()\n",
    "       if text_file.filename.endswith('.dta')}\n",
    "zip_file.close()"
   ],
   "metadata": {
    "collapsed": false,
    "pycharm": {
     "name": "#%%\n"
    }
   }
  },
  {
   "cell_type": "code",
   "execution_count": 152,
   "outputs": [
    {
     "name": "stdout",
     "output_type": "stream",
     "text": [
      "dict_keys(['ucr_arrests_monthly_all_crimes_race_sex_2019.dta', 'ucr_arrests_monthly_all_crimes_race_sex_2020.dta'])\n",
      "(233476, 1227)\n",
      "(236468, 1233)\n"
     ]
    }
   ],
   "source": [
    "print(dfs.keys())\n",
    "arrests_2019 = dfs['ucr_arrests_monthly_all_crimes_race_sex_2019.dta'].copy()\n",
    "arrests_2020 = dfs['ucr_arrests_monthly_all_crimes_race_sex_2020.dta'].copy()\n",
    "print(arrests_2019.shape)\n",
    "print(arrests_2020.shape)"
   ],
   "metadata": {
    "collapsed": false,
    "pycharm": {
     "name": "#%%\n"
    }
   }
  },
  {
   "cell_type": "code",
   "execution_count": 153,
   "outputs": [],
   "source": [
    "zip_file = ZipFile(os.path.join(DATA_PATH, 'crime.zip'))\n",
    "dfs = {text_file.filename: pd.read_csv(zip_file.open(text_file.filename))\n",
    "       for text_file in zip_file.infolist()\n",
    "       if text_file.filename.endswith('.csv')}\n",
    "zip_file.close()"
   ],
   "metadata": {
    "collapsed": false,
    "pycharm": {
     "name": "#%%\n"
    }
   }
  },
  {
   "cell_type": "code",
   "execution_count": 154,
   "outputs": [
    {
     "name": "stdout",
     "output_type": "stream",
     "text": [
      "dict_keys(['crime.csv', 'offense_codes.csv'])\n",
      "(473344, 19)\n",
      "(299, 9)\n"
     ]
    }
   ],
   "source": [
    "print(dfs.keys())\n",
    "crime_data = dfs['crime.csv'].copy()\n",
    "offense_codes = dfs['offense_codes.csv'].copy()\n",
    "print(crime_data.shape)\n",
    "print(offense_codes.shape)"
   ],
   "metadata": {
    "collapsed": false,
    "pycharm": {
     "name": "#%%\n"
    }
   }
  },
  {
   "cell_type": "markdown",
   "source": [
    "# Preprocessing"
   ],
   "metadata": {
    "collapsed": false,
    "pycharm": {
     "name": "#%% md\n"
    }
   }
  },
  {
   "cell_type": "code",
   "execution_count": 155,
   "outputs": [
    {
     "name": "stdout",
     "output_type": "stream",
     "text": [
      "set()\n",
      "**************************************************\n",
      "{'address_city', 'address_state', 'address_street_line_1', 'address_street_line_2', 'address_name', 'address_zip_code'}\n",
      "**************************************************\n",
      "1227\n"
     ]
    }
   ],
   "source": [
    "arrests_2019_cols = set(arrests_2019.columns)\n",
    "arrests_2020_cols = set(arrests_2020.columns)\n",
    "print(arrests_2019_cols.difference(arrests_2020_cols))\n",
    "print(\"*\" * 50)\n",
    "print(arrests_2020_cols.difference(arrests_2019_cols))\n",
    "print(\"*\" * 50)\n",
    "print(len(arrests_2020_cols.intersection(arrests_2019_cols)))"
   ],
   "metadata": {
    "collapsed": false,
    "pycharm": {
     "name": "#%%\n"
    }
   }
  },
  {
   "cell_type": "code",
   "execution_count": 156,
   "outputs": [],
   "source": [
    "columns_to_remove = list(arrests_2020_cols.difference(arrests_2019_cols))\n",
    "arrests_2020.drop(columns_to_remove, axis=1, inplace=True)\n",
    "assert arrests_2019.shape[1] == arrests_2020.shape[1]"
   ],
   "metadata": {
    "collapsed": false,
    "pycharm": {
     "name": "#%%\n"
    }
   }
  },
  {
   "cell_type": "code",
   "execution_count": 157,
   "outputs": [
    {
     "data": {
      "text/plain": "       ori       ori9  population agency_name  year     month   state  \\\n0  AK00101  AK0010100      286388   anchorage  2020     april  alaska   \n1  AK00101  AK0010100      286388   anchorage  2020    august  alaska   \n2  AK00101  AK0010100      286388   anchorage  2020  december  alaska   \n3  AK00101  AK0010100      286388   anchorage  2020  february  alaska   \n4  AK00101  AK0010100      286388   anchorage  2020   january  alaska   \n\n  state_abb           population_group country_division  ... weapons_tot_male  \\\n0        AK  city 250,000 thru 499,999          pacific  ...               13   \n1        AK  city 250,000 thru 499,999          pacific  ...                6   \n2        AK  city 250,000 thru 499,999          pacific  ...                6   \n3        AK  city 250,000 thru 499,999          pacific  ...               11   \n4        AK  city 250,000 thru 499,999          pacific  ...               14   \n\n  weapons_tot_male_adult weapons_tot_male_juv weapons_tot_non_hisp  \\\n0                     12                    1                    0   \n1                      4                    2                    0   \n2                      6                    0                    0   \n3                      8                    3                    0   \n4                     13                    1                    0   \n\n  weapons_tot_white juv_handled_within_department juv_referred_to_juv_court  \\\n0                 9                             0                         0   \n1                 2                             0                         0   \n2                 3                             0                         0   \n3                 6                             0                         0   \n4                 7                             0                         0   \n\n   juv_referred_to_welfare  juv_referred_to_police  juv_referred_to_crim_court  \n0                        0                       0                           0  \n1                        0                       0                           0  \n2                        0                       0                           0  \n3                        0                       0                           0  \n4                        0                       0                           0  \n\n[5 rows x 1227 columns]",
      "text/html": "<div>\n<style scoped>\n    .dataframe tbody tr th:only-of-type {\n        vertical-align: middle;\n    }\n\n    .dataframe tbody tr th {\n        vertical-align: top;\n    }\n\n    .dataframe thead th {\n        text-align: right;\n    }\n</style>\n<table border=\"1\" class=\"dataframe\">\n  <thead>\n    <tr style=\"text-align: right;\">\n      <th></th>\n      <th>ori</th>\n      <th>ori9</th>\n      <th>population</th>\n      <th>agency_name</th>\n      <th>year</th>\n      <th>month</th>\n      <th>state</th>\n      <th>state_abb</th>\n      <th>population_group</th>\n      <th>country_division</th>\n      <th>...</th>\n      <th>weapons_tot_male</th>\n      <th>weapons_tot_male_adult</th>\n      <th>weapons_tot_male_juv</th>\n      <th>weapons_tot_non_hisp</th>\n      <th>weapons_tot_white</th>\n      <th>juv_handled_within_department</th>\n      <th>juv_referred_to_juv_court</th>\n      <th>juv_referred_to_welfare</th>\n      <th>juv_referred_to_police</th>\n      <th>juv_referred_to_crim_court</th>\n    </tr>\n  </thead>\n  <tbody>\n    <tr>\n      <th>0</th>\n      <td>AK00101</td>\n      <td>AK0010100</td>\n      <td>286388</td>\n      <td>anchorage</td>\n      <td>2020</td>\n      <td>april</td>\n      <td>alaska</td>\n      <td>AK</td>\n      <td>city 250,000 thru 499,999</td>\n      <td>pacific</td>\n      <td>...</td>\n      <td>13</td>\n      <td>12</td>\n      <td>1</td>\n      <td>0</td>\n      <td>9</td>\n      <td>0</td>\n      <td>0</td>\n      <td>0</td>\n      <td>0</td>\n      <td>0</td>\n    </tr>\n    <tr>\n      <th>1</th>\n      <td>AK00101</td>\n      <td>AK0010100</td>\n      <td>286388</td>\n      <td>anchorage</td>\n      <td>2020</td>\n      <td>august</td>\n      <td>alaska</td>\n      <td>AK</td>\n      <td>city 250,000 thru 499,999</td>\n      <td>pacific</td>\n      <td>...</td>\n      <td>6</td>\n      <td>4</td>\n      <td>2</td>\n      <td>0</td>\n      <td>2</td>\n      <td>0</td>\n      <td>0</td>\n      <td>0</td>\n      <td>0</td>\n      <td>0</td>\n    </tr>\n    <tr>\n      <th>2</th>\n      <td>AK00101</td>\n      <td>AK0010100</td>\n      <td>286388</td>\n      <td>anchorage</td>\n      <td>2020</td>\n      <td>december</td>\n      <td>alaska</td>\n      <td>AK</td>\n      <td>city 250,000 thru 499,999</td>\n      <td>pacific</td>\n      <td>...</td>\n      <td>6</td>\n      <td>6</td>\n      <td>0</td>\n      <td>0</td>\n      <td>3</td>\n      <td>0</td>\n      <td>0</td>\n      <td>0</td>\n      <td>0</td>\n      <td>0</td>\n    </tr>\n    <tr>\n      <th>3</th>\n      <td>AK00101</td>\n      <td>AK0010100</td>\n      <td>286388</td>\n      <td>anchorage</td>\n      <td>2020</td>\n      <td>february</td>\n      <td>alaska</td>\n      <td>AK</td>\n      <td>city 250,000 thru 499,999</td>\n      <td>pacific</td>\n      <td>...</td>\n      <td>11</td>\n      <td>8</td>\n      <td>3</td>\n      <td>0</td>\n      <td>6</td>\n      <td>0</td>\n      <td>0</td>\n      <td>0</td>\n      <td>0</td>\n      <td>0</td>\n    </tr>\n    <tr>\n      <th>4</th>\n      <td>AK00101</td>\n      <td>AK0010100</td>\n      <td>286388</td>\n      <td>anchorage</td>\n      <td>2020</td>\n      <td>january</td>\n      <td>alaska</td>\n      <td>AK</td>\n      <td>city 250,000 thru 499,999</td>\n      <td>pacific</td>\n      <td>...</td>\n      <td>14</td>\n      <td>13</td>\n      <td>1</td>\n      <td>0</td>\n      <td>7</td>\n      <td>0</td>\n      <td>0</td>\n      <td>0</td>\n      <td>0</td>\n      <td>0</td>\n    </tr>\n  </tbody>\n</table>\n<p>5 rows × 1227 columns</p>\n</div>"
     },
     "execution_count": 157,
     "metadata": {},
     "output_type": "execute_result"
    }
   ],
   "source": [
    "arrests_2020.head()"
   ],
   "metadata": {
    "collapsed": false,
    "pycharm": {
     "name": "#%%\n"
    }
   }
  },
  {
   "cell_type": "code",
   "execution_count": 160,
   "outputs": [],
   "source": [
    "arrests_2020_filtered = arrests_2020.query(\"state_abb == 'CO'\").copy()\n",
    "arrests_2019_filtered = arrests_2019.query(\"state_abb == 'CO'\").copy()"
   ],
   "metadata": {
    "collapsed": false,
    "pycharm": {
     "name": "#%%\n"
    }
   }
  },
  {
   "cell_type": "code",
   "execution_count": 161,
   "outputs": [],
   "source": [
    "arrests_2020.loc[(arrests_2020['fips_state_county_code'] == '') &\n",
    "                 (arrests_2020['agency_name'] == 'us secret service, denve'), 'fips_state_county_code'] = '08031'"
   ],
   "metadata": {
    "collapsed": false,
    "pycharm": {
     "name": "#%%\n"
    }
   }
  },
  {
   "cell_type": "code",
   "execution_count": 162,
   "outputs": [],
   "source": [
    "arrests_2019.loc[(arrests_2019['fips_state_county_code'] == '') &\n",
    "                 (arrests_2019['agency_name'] == 'us secret service, denve'), 'fips_state_county_code'] = '08031'"
   ],
   "metadata": {
    "collapsed": false,
    "pycharm": {
     "name": "#%%\n"
    }
   }
  },
  {
   "cell_type": "code",
   "execution_count": 163,
   "outputs": [
    {
     "name": "stdout",
     "output_type": "stream",
     "text": [
      "(144, 1227)\n",
      "(156, 1227)\n"
     ]
    }
   ],
   "source": [
    "arrests_2020_filtered = arrests_2020_filtered.query(\"fips_state_county_code in ['08031', '08013', '08014']\").copy()\n",
    "arrests_2019_filtered = arrests_2019_filtered.query(\"fips_state_county_code in ['08031', '08013', '08014']\").copy()\n",
    "print(arrests_2020_filtered.shape)\n",
    "print(arrests_2019_filtered.shape)"
   ],
   "metadata": {
    "collapsed": false,
    "pycharm": {
     "name": "#%%\n"
    }
   }
  },
  {
   "cell_type": "code",
   "execution_count": 167,
   "outputs": [],
   "source": [
    "general_cols = arrests_2020_filtered.columns.to_list()[:14]\n",
    "arrest_cols = [col for col in arrests_2020_filtered.columns if 'tot_arrest' in col]\n",
    "arrests_2020_filtered = arrests_2020_filtered[general_cols + arrest_cols]\n",
    "arrests_2019_filtered = arrests_2019_filtered[general_cols + arrest_cols]"
   ],
   "metadata": {
    "collapsed": false,
    "pycharm": {
     "name": "#%%\n"
    }
   }
  },
  {
   "cell_type": "code",
   "execution_count": 168,
   "outputs": [
    {
     "name": "stdout",
     "output_type": "stream",
     "text": [
      "(300, 57)\n"
     ]
    }
   ],
   "source": [
    "arrests_df = pd.concat([arrests_2019_filtered, arrests_2020_filtered], axis=0)\n",
    "print(arrests_df.shape)"
   ],
   "metadata": {
    "collapsed": false,
    "pycharm": {
     "name": "#%%\n"
    }
   }
  },
  {
   "cell_type": "code",
   "execution_count": 169,
   "outputs": [
    {
     "data": {
      "text/plain": "           ori       ori9  population agency_name  year     month     state  \\\n14839  CO00700  CO0070000       58601     boulder  2019     april  colorado   \n14840  CO00700  CO0070000       58601     boulder  2019    august  colorado   \n14841  CO00700  CO0070000       58601     boulder  2019  december  colorado   \n14842  CO00700  CO0070000       58601     boulder  2019  february  colorado   \n14843  CO00700  CO0070000       58601     boulder  2019   january  colorado   \n\n      state_abb               population_group country_division  ...  \\\n14839        CO  msa-county 25,000 thru 99,999         mountain  ...   \n14840        CO  msa-county 25,000 thru 99,999         mountain  ...   \n14841        CO  msa-county 25,000 thru 99,999         mountain  ...   \n14842        CO  msa-county 25,000 thru 99,999         mountain  ...   \n14843        CO  msa-county 25,000 thru 99,999         mountain  ...   \n\n      sale_heroin_coke_tot_arrests sale_other_drug_tot_arrests  \\\n14839                            2                           0   \n14840                            2                           0   \n14841                            3                           0   \n14842                            2                           0   \n14843                            0                           0   \n\n      sale_synth_narc_tot_arrests stolen_prop_tot_arrests  \\\n14839                           0                       0   \n14840                           0                       0   \n14841                           0                       0   \n14842                           0                       0   \n14843                           0                       0   \n\n       suspicion_tot_arrests  theft_tot_arrests  total_drug_tot_arrests  \\\n14839                      0                  9                      18   \n14840                      0                  6                       8   \n14841                      0                 12                       8   \n14842                      0                  2                       9   \n14843                      0                  2                       9   \n\n       vagrancy_tot_arrests  vandalism_tot_arrests  weapons_tot_arrests  \n14839                     0                      2                    0  \n14840                     0                      3                    0  \n14841                     0                      5                    0  \n14842                     0                      5                    0  \n14843                     0                      0                    0  \n\n[5 rows x 57 columns]",
      "text/html": "<div>\n<style scoped>\n    .dataframe tbody tr th:only-of-type {\n        vertical-align: middle;\n    }\n\n    .dataframe tbody tr th {\n        vertical-align: top;\n    }\n\n    .dataframe thead th {\n        text-align: right;\n    }\n</style>\n<table border=\"1\" class=\"dataframe\">\n  <thead>\n    <tr style=\"text-align: right;\">\n      <th></th>\n      <th>ori</th>\n      <th>ori9</th>\n      <th>population</th>\n      <th>agency_name</th>\n      <th>year</th>\n      <th>month</th>\n      <th>state</th>\n      <th>state_abb</th>\n      <th>population_group</th>\n      <th>country_division</th>\n      <th>...</th>\n      <th>sale_heroin_coke_tot_arrests</th>\n      <th>sale_other_drug_tot_arrests</th>\n      <th>sale_synth_narc_tot_arrests</th>\n      <th>stolen_prop_tot_arrests</th>\n      <th>suspicion_tot_arrests</th>\n      <th>theft_tot_arrests</th>\n      <th>total_drug_tot_arrests</th>\n      <th>vagrancy_tot_arrests</th>\n      <th>vandalism_tot_arrests</th>\n      <th>weapons_tot_arrests</th>\n    </tr>\n  </thead>\n  <tbody>\n    <tr>\n      <th>14839</th>\n      <td>CO00700</td>\n      <td>CO0070000</td>\n      <td>58601</td>\n      <td>boulder</td>\n      <td>2019</td>\n      <td>april</td>\n      <td>colorado</td>\n      <td>CO</td>\n      <td>msa-county 25,000 thru 99,999</td>\n      <td>mountain</td>\n      <td>...</td>\n      <td>2</td>\n      <td>0</td>\n      <td>0</td>\n      <td>0</td>\n      <td>0</td>\n      <td>9</td>\n      <td>18</td>\n      <td>0</td>\n      <td>2</td>\n      <td>0</td>\n    </tr>\n    <tr>\n      <th>14840</th>\n      <td>CO00700</td>\n      <td>CO0070000</td>\n      <td>58601</td>\n      <td>boulder</td>\n      <td>2019</td>\n      <td>august</td>\n      <td>colorado</td>\n      <td>CO</td>\n      <td>msa-county 25,000 thru 99,999</td>\n      <td>mountain</td>\n      <td>...</td>\n      <td>2</td>\n      <td>0</td>\n      <td>0</td>\n      <td>0</td>\n      <td>0</td>\n      <td>6</td>\n      <td>8</td>\n      <td>0</td>\n      <td>3</td>\n      <td>0</td>\n    </tr>\n    <tr>\n      <th>14841</th>\n      <td>CO00700</td>\n      <td>CO0070000</td>\n      <td>58601</td>\n      <td>boulder</td>\n      <td>2019</td>\n      <td>december</td>\n      <td>colorado</td>\n      <td>CO</td>\n      <td>msa-county 25,000 thru 99,999</td>\n      <td>mountain</td>\n      <td>...</td>\n      <td>3</td>\n      <td>0</td>\n      <td>0</td>\n      <td>0</td>\n      <td>0</td>\n      <td>12</td>\n      <td>8</td>\n      <td>0</td>\n      <td>5</td>\n      <td>0</td>\n    </tr>\n    <tr>\n      <th>14842</th>\n      <td>CO00700</td>\n      <td>CO0070000</td>\n      <td>58601</td>\n      <td>boulder</td>\n      <td>2019</td>\n      <td>february</td>\n      <td>colorado</td>\n      <td>CO</td>\n      <td>msa-county 25,000 thru 99,999</td>\n      <td>mountain</td>\n      <td>...</td>\n      <td>2</td>\n      <td>0</td>\n      <td>0</td>\n      <td>0</td>\n      <td>0</td>\n      <td>2</td>\n      <td>9</td>\n      <td>0</td>\n      <td>5</td>\n      <td>0</td>\n    </tr>\n    <tr>\n      <th>14843</th>\n      <td>CO00700</td>\n      <td>CO0070000</td>\n      <td>58601</td>\n      <td>boulder</td>\n      <td>2019</td>\n      <td>january</td>\n      <td>colorado</td>\n      <td>CO</td>\n      <td>msa-county 25,000 thru 99,999</td>\n      <td>mountain</td>\n      <td>...</td>\n      <td>0</td>\n      <td>0</td>\n      <td>0</td>\n      <td>0</td>\n      <td>0</td>\n      <td>2</td>\n      <td>9</td>\n      <td>0</td>\n      <td>0</td>\n      <td>0</td>\n    </tr>\n  </tbody>\n</table>\n<p>5 rows × 57 columns</p>\n</div>"
     },
     "execution_count": 169,
     "metadata": {},
     "output_type": "execute_result"
    }
   ],
   "source": [
    "arrests_df.head()"
   ],
   "metadata": {
    "collapsed": false,
    "pycharm": {
     "name": "#%%\n"
    }
   }
  },
  {
   "cell_type": "code",
   "execution_count": 170,
   "outputs": [],
   "source": [
    "arrests_agg = (arrests_df\n",
    "               .groupby(['month', 'year', 'fips_state_county_code'], as_index=False)[arrest_cols].sum())"
   ],
   "metadata": {
    "collapsed": false,
    "pycharm": {
     "name": "#%%\n"
    }
   }
  },
  {
   "cell_type": "code",
   "execution_count": 178,
   "outputs": [],
   "source": [
    "population_norm = (arrests_df\n",
    "                   .groupby(['month', 'year', 'fips_state_county_code', 'fips_place_code'], as_index=False)[\n",
    "                       'population']\n",
    "                   .max()\n",
    "                   .groupby(['month', 'year', 'fips_state_county_code'], as_index=False)[['population']]\n",
    "                   .sum())"
   ],
   "metadata": {
    "collapsed": false,
    "pycharm": {
     "name": "#%%\n"
    }
   }
  },
  {
   "cell_type": "code",
   "execution_count": 180,
   "outputs": [
    {
     "name": "stdout",
     "output_type": "stream",
     "text": [
      "(72, 47)\n"
     ]
    }
   ],
   "source": [
    "merged = pd.merge(arrests_agg, population_norm, on=['month', 'year', 'fips_state_county_code'])\n",
    "print(merged.shape)"
   ],
   "metadata": {
    "collapsed": false,
    "pycharm": {
     "name": "#%%\n"
    }
   }
  },
  {
   "cell_type": "code",
   "execution_count": 181,
   "outputs": [
    {
     "data": {
      "text/plain": "   month  year fips_state_county_code  agg_assault_tot_arrests  \\\n0  april  2019                  08013                       18   \n1  april  2019                  08014                        1   \n2  april  2019                  08031                      143   \n3  april  2020                  08013                       23   \n4  april  2020                  08014                        1   \n\n   all_other_tot_arrests  arson_tot_arrests  burglary_tot_arrests  \\\n0                    532                  1                    12   \n1                     31                  0                     2   \n2                    848                  1                    38   \n3                    179                  7                    21   \n4                     11                  0                     0   \n\n   curfew_loiter_tot_arrests  disorder_cond_tot_arrests  \\\n0                          0                         24   \n1                          0                          1   \n2                         26                         62   \n3                          0                          9   \n4                          0                          0   \n\n   drunkenness_tot_arrests  ...  sale_other_drug_tot_arrests  \\\n0                        0  ...                            0   \n1                        0  ...                            4   \n2                        0  ...                            5   \n3                        0  ...                            1   \n4                        0  ...                            0   \n\n   sale_synth_narc_tot_arrests  stolen_prop_tot_arrests  \\\n0                            0                        3   \n1                            0                        0   \n2                            1                       12   \n3                            0                        0   \n4                            0                        1   \n\n   suspicion_tot_arrests  theft_tot_arrests  total_drug_tot_arrests  \\\n0                      0                105                      57   \n1                      0                 43                      26   \n2                      0                196                     350   \n3                      0                 71                       9   \n4                      0                 18                       3   \n\n   vagrancy_tot_arrests  vandalism_tot_arrests  weapons_tot_arrests  \\\n0                     0                     22                    5   \n1                     0                      5                    0   \n2                     2                     98                   73   \n3                     0                     19                    3   \n4                     0                      3                    1   \n\n   population  \n0      317073  \n1       70798  \n2      728941  \n3      315516  \n4       71795  \n\n[5 rows x 47 columns]",
      "text/html": "<div>\n<style scoped>\n    .dataframe tbody tr th:only-of-type {\n        vertical-align: middle;\n    }\n\n    .dataframe tbody tr th {\n        vertical-align: top;\n    }\n\n    .dataframe thead th {\n        text-align: right;\n    }\n</style>\n<table border=\"1\" class=\"dataframe\">\n  <thead>\n    <tr style=\"text-align: right;\">\n      <th></th>\n      <th>month</th>\n      <th>year</th>\n      <th>fips_state_county_code</th>\n      <th>agg_assault_tot_arrests</th>\n      <th>all_other_tot_arrests</th>\n      <th>arson_tot_arrests</th>\n      <th>burglary_tot_arrests</th>\n      <th>curfew_loiter_tot_arrests</th>\n      <th>disorder_cond_tot_arrests</th>\n      <th>drunkenness_tot_arrests</th>\n      <th>...</th>\n      <th>sale_other_drug_tot_arrests</th>\n      <th>sale_synth_narc_tot_arrests</th>\n      <th>stolen_prop_tot_arrests</th>\n      <th>suspicion_tot_arrests</th>\n      <th>theft_tot_arrests</th>\n      <th>total_drug_tot_arrests</th>\n      <th>vagrancy_tot_arrests</th>\n      <th>vandalism_tot_arrests</th>\n      <th>weapons_tot_arrests</th>\n      <th>population</th>\n    </tr>\n  </thead>\n  <tbody>\n    <tr>\n      <th>0</th>\n      <td>april</td>\n      <td>2019</td>\n      <td>08013</td>\n      <td>18</td>\n      <td>532</td>\n      <td>1</td>\n      <td>12</td>\n      <td>0</td>\n      <td>24</td>\n      <td>0</td>\n      <td>...</td>\n      <td>0</td>\n      <td>0</td>\n      <td>3</td>\n      <td>0</td>\n      <td>105</td>\n      <td>57</td>\n      <td>0</td>\n      <td>22</td>\n      <td>5</td>\n      <td>317073</td>\n    </tr>\n    <tr>\n      <th>1</th>\n      <td>april</td>\n      <td>2019</td>\n      <td>08014</td>\n      <td>1</td>\n      <td>31</td>\n      <td>0</td>\n      <td>2</td>\n      <td>0</td>\n      <td>1</td>\n      <td>0</td>\n      <td>...</td>\n      <td>4</td>\n      <td>0</td>\n      <td>0</td>\n      <td>0</td>\n      <td>43</td>\n      <td>26</td>\n      <td>0</td>\n      <td>5</td>\n      <td>0</td>\n      <td>70798</td>\n    </tr>\n    <tr>\n      <th>2</th>\n      <td>april</td>\n      <td>2019</td>\n      <td>08031</td>\n      <td>143</td>\n      <td>848</td>\n      <td>1</td>\n      <td>38</td>\n      <td>26</td>\n      <td>62</td>\n      <td>0</td>\n      <td>...</td>\n      <td>5</td>\n      <td>1</td>\n      <td>12</td>\n      <td>0</td>\n      <td>196</td>\n      <td>350</td>\n      <td>2</td>\n      <td>98</td>\n      <td>73</td>\n      <td>728941</td>\n    </tr>\n    <tr>\n      <th>3</th>\n      <td>april</td>\n      <td>2020</td>\n      <td>08013</td>\n      <td>23</td>\n      <td>179</td>\n      <td>7</td>\n      <td>21</td>\n      <td>0</td>\n      <td>9</td>\n      <td>0</td>\n      <td>...</td>\n      <td>1</td>\n      <td>0</td>\n      <td>0</td>\n      <td>0</td>\n      <td>71</td>\n      <td>9</td>\n      <td>0</td>\n      <td>19</td>\n      <td>3</td>\n      <td>315516</td>\n    </tr>\n    <tr>\n      <th>4</th>\n      <td>april</td>\n      <td>2020</td>\n      <td>08014</td>\n      <td>1</td>\n      <td>11</td>\n      <td>0</td>\n      <td>0</td>\n      <td>0</td>\n      <td>0</td>\n      <td>0</td>\n      <td>...</td>\n      <td>0</td>\n      <td>0</td>\n      <td>1</td>\n      <td>0</td>\n      <td>18</td>\n      <td>3</td>\n      <td>0</td>\n      <td>3</td>\n      <td>1</td>\n      <td>71795</td>\n    </tr>\n  </tbody>\n</table>\n<p>5 rows × 47 columns</p>\n</div>"
     },
     "execution_count": 181,
     "metadata": {},
     "output_type": "execute_result"
    }
   ],
   "source": [
    "merged.head()"
   ],
   "metadata": {
    "collapsed": false,
    "pycharm": {
     "name": "#%%\n"
    }
   }
  },
  {
   "cell_type": "code",
   "execution_count": 182,
   "outputs": [
    {
     "name": "stdout",
     "output_type": "stream",
     "text": [
      "9\n",
      "34\n",
      "43\n"
     ]
    }
   ],
   "source": [
    "violent_crime = ['agg_assault_tot_arrests', 'arson_tot_arrests', 'burglary_tot_arrests',\n",
    "                 'manslaught_neg_tot_arrests', 'murder_tot_arrests', 'oth_assault_tot_arrests',\n",
    "                 'oth_sex_off_tot_arrests', 'rape_tot_arrests', 'robbery_tot_arrests']\n",
    "non_violent = list(set(arrest_cols).difference(set(violent_crime)))\n",
    "print(len(violent_crime))\n",
    "print(len(non_violent))\n",
    "print(len(arrest_cols))"
   ],
   "metadata": {
    "collapsed": false,
    "pycharm": {
     "name": "#%%\n"
    }
   }
  },
  {
   "cell_type": "markdown",
   "source": [
    "# EDA"
   ],
   "metadata": {
    "collapsed": false,
    "pycharm": {
     "name": "#%% md\n"
    }
   }
  },
  {
   "cell_type": "code",
   "execution_count": 185,
   "outputs": [
    {
     "data": {
      "text/plain": "   month  year fips_state_county_code  agg_assault_tot_arrests  \\\n0  april  2019                  08013                       18   \n1  april  2019                  08014                        1   \n2  april  2019                  08031                      143   \n3  april  2020                  08013                       23   \n4  april  2020                  08014                        1   \n\n   all_other_tot_arrests  arson_tot_arrests  burglary_tot_arrests  \\\n0                    532                  1                    12   \n1                     31                  0                     2   \n2                    848                  1                    38   \n3                    179                  7                    21   \n4                     11                  0                     0   \n\n   curfew_loiter_tot_arrests  disorder_cond_tot_arrests  \\\n0                          0                         24   \n1                          0                          1   \n2                         26                         62   \n3                          0                          9   \n4                          0                          0   \n\n   drunkenness_tot_arrests  ...  sale_other_drug_tot_arrests  \\\n0                        0  ...                            0   \n1                        0  ...                            4   \n2                        0  ...                            5   \n3                        0  ...                            1   \n4                        0  ...                            0   \n\n   sale_synth_narc_tot_arrests  stolen_prop_tot_arrests  \\\n0                            0                        3   \n1                            0                        0   \n2                            1                       12   \n3                            0                        0   \n4                            0                        1   \n\n   suspicion_tot_arrests  theft_tot_arrests  total_drug_tot_arrests  \\\n0                      0                105                      57   \n1                      0                 43                      26   \n2                      0                196                     350   \n3                      0                 71                       9   \n4                      0                 18                       3   \n\n   vagrancy_tot_arrests  vandalism_tot_arrests  weapons_tot_arrests  \\\n0                     0                     22                    5   \n1                     0                      5                    0   \n2                     2                     98                   73   \n3                     0                     19                    3   \n4                     0                      3                    1   \n\n   population  \n0      317073  \n1       70798  \n2      728941  \n3      315516  \n4       71795  \n\n[5 rows x 47 columns]",
      "text/html": "<div>\n<style scoped>\n    .dataframe tbody tr th:only-of-type {\n        vertical-align: middle;\n    }\n\n    .dataframe tbody tr th {\n        vertical-align: top;\n    }\n\n    .dataframe thead th {\n        text-align: right;\n    }\n</style>\n<table border=\"1\" class=\"dataframe\">\n  <thead>\n    <tr style=\"text-align: right;\">\n      <th></th>\n      <th>month</th>\n      <th>year</th>\n      <th>fips_state_county_code</th>\n      <th>agg_assault_tot_arrests</th>\n      <th>all_other_tot_arrests</th>\n      <th>arson_tot_arrests</th>\n      <th>burglary_tot_arrests</th>\n      <th>curfew_loiter_tot_arrests</th>\n      <th>disorder_cond_tot_arrests</th>\n      <th>drunkenness_tot_arrests</th>\n      <th>...</th>\n      <th>sale_other_drug_tot_arrests</th>\n      <th>sale_synth_narc_tot_arrests</th>\n      <th>stolen_prop_tot_arrests</th>\n      <th>suspicion_tot_arrests</th>\n      <th>theft_tot_arrests</th>\n      <th>total_drug_tot_arrests</th>\n      <th>vagrancy_tot_arrests</th>\n      <th>vandalism_tot_arrests</th>\n      <th>weapons_tot_arrests</th>\n      <th>population</th>\n    </tr>\n  </thead>\n  <tbody>\n    <tr>\n      <th>0</th>\n      <td>april</td>\n      <td>2019</td>\n      <td>08013</td>\n      <td>18</td>\n      <td>532</td>\n      <td>1</td>\n      <td>12</td>\n      <td>0</td>\n      <td>24</td>\n      <td>0</td>\n      <td>...</td>\n      <td>0</td>\n      <td>0</td>\n      <td>3</td>\n      <td>0</td>\n      <td>105</td>\n      <td>57</td>\n      <td>0</td>\n      <td>22</td>\n      <td>5</td>\n      <td>317073</td>\n    </tr>\n    <tr>\n      <th>1</th>\n      <td>april</td>\n      <td>2019</td>\n      <td>08014</td>\n      <td>1</td>\n      <td>31</td>\n      <td>0</td>\n      <td>2</td>\n      <td>0</td>\n      <td>1</td>\n      <td>0</td>\n      <td>...</td>\n      <td>4</td>\n      <td>0</td>\n      <td>0</td>\n      <td>0</td>\n      <td>43</td>\n      <td>26</td>\n      <td>0</td>\n      <td>5</td>\n      <td>0</td>\n      <td>70798</td>\n    </tr>\n    <tr>\n      <th>2</th>\n      <td>april</td>\n      <td>2019</td>\n      <td>08031</td>\n      <td>143</td>\n      <td>848</td>\n      <td>1</td>\n      <td>38</td>\n      <td>26</td>\n      <td>62</td>\n      <td>0</td>\n      <td>...</td>\n      <td>5</td>\n      <td>1</td>\n      <td>12</td>\n      <td>0</td>\n      <td>196</td>\n      <td>350</td>\n      <td>2</td>\n      <td>98</td>\n      <td>73</td>\n      <td>728941</td>\n    </tr>\n    <tr>\n      <th>3</th>\n      <td>april</td>\n      <td>2020</td>\n      <td>08013</td>\n      <td>23</td>\n      <td>179</td>\n      <td>7</td>\n      <td>21</td>\n      <td>0</td>\n      <td>9</td>\n      <td>0</td>\n      <td>...</td>\n      <td>1</td>\n      <td>0</td>\n      <td>0</td>\n      <td>0</td>\n      <td>71</td>\n      <td>9</td>\n      <td>0</td>\n      <td>19</td>\n      <td>3</td>\n      <td>315516</td>\n    </tr>\n    <tr>\n      <th>4</th>\n      <td>april</td>\n      <td>2020</td>\n      <td>08014</td>\n      <td>1</td>\n      <td>11</td>\n      <td>0</td>\n      <td>0</td>\n      <td>0</td>\n      <td>0</td>\n      <td>0</td>\n      <td>...</td>\n      <td>0</td>\n      <td>0</td>\n      <td>1</td>\n      <td>0</td>\n      <td>18</td>\n      <td>3</td>\n      <td>0</td>\n      <td>3</td>\n      <td>1</td>\n      <td>71795</td>\n    </tr>\n  </tbody>\n</table>\n<p>5 rows × 47 columns</p>\n</div>"
     },
     "execution_count": 185,
     "metadata": {},
     "output_type": "execute_result"
    }
   ],
   "source": [
    "merged.head()"
   ],
   "metadata": {
    "collapsed": false,
    "pycharm": {
     "name": "#%%\n"
    }
   }
  },
  {
   "cell_type": "code",
   "execution_count": null,
   "outputs": [],
   "source": [],
   "metadata": {
    "collapsed": false,
    "pycharm": {
     "name": "#%%\n"
    }
   }
  }
 ],
 "metadata": {
  "kernelspec": {
   "display_name": "Python 3",
   "language": "python",
   "name": "python3"
  },
  "language_info": {
   "codemirror_mode": {
    "name": "ipython",
    "version": 2
   },
   "file_extension": ".py",
   "mimetype": "text/x-python",
   "name": "python",
   "nbconvert_exporter": "python",
   "pygments_lexer": "ipython2",
   "version": "2.7.6"
  }
 },
 "nbformat": 4,
 "nbformat_minor": 0
}