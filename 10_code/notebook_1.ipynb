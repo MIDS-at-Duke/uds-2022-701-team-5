{
 "cells": [
  {
   "cell_type": "code",
   "execution_count": 221,
   "metadata": {
    "collapsed": true
   },
   "outputs": [],
   "source": [
    "import os\n",
    "import numpy as np\n",
    "import pandas as pd\n",
    "import matplotlib.pyplot as plt\n",
    "import statsmodels.formula.api as smf\n",
    "from zipfile import ZipFile"
   ]
  },
  {
   "cell_type": "markdown",
   "source": [
    "# Load the data"
   ],
   "metadata": {
    "collapsed": false,
    "pycharm": {
     "name": "#%% md\n"
    }
   }
  },
  {
   "cell_type": "code",
   "execution_count": 151,
   "outputs": [],
   "source": [
    "DATA_PATH = \"../00_source_data\"\n",
    "arrests_data = os.path.join(DATA_PATH, 'ucr_arrests_monthly_all'\n",
    "                                       '_crimes_race_sex_1974_2020_dta.zip')\n",
    "\n",
    "zip_file = ZipFile(arrests_data)\n",
    "dfs = {text_file.filename: pd.read_stata(zip_file.open(text_file.filename))\n",
    "       for text_file in zip_file.infolist()\n",
    "       if text_file.filename.endswith('.dta')}\n",
    "zip_file.close()"
   ],
   "metadata": {
    "collapsed": false,
    "pycharm": {
     "name": "#%%\n"
    }
   }
  },
  {
   "cell_type": "code",
   "execution_count": 152,
   "outputs": [
    {
     "name": "stdout",
     "output_type": "stream",
     "text": [
      "dict_keys(['ucr_arrests_monthly_all_crimes_race_sex_2019.dta', 'ucr_arrests_monthly_all_crimes_race_sex_2020.dta'])\n",
      "(233476, 1227)\n",
      "(236468, 1233)\n"
     ]
    }
   ],
   "source": [
    "print(dfs.keys())\n",
    "arrests_2019 = dfs['ucr_arrests_monthly_all_crimes_race_sex_2019.dta'].copy()\n",
    "arrests_2020 = dfs['ucr_arrests_monthly_all_crimes_race_sex_2020.dta'].copy()\n",
    "print(arrests_2019.shape)\n",
    "print(arrests_2020.shape)"
   ],
   "metadata": {
    "collapsed": false,
    "pycharm": {
     "name": "#%%\n"
    }
   }
  },
  {
   "cell_type": "code",
   "execution_count": 153,
   "outputs": [],
   "source": [
    "zip_file = ZipFile(os.path.join(DATA_PATH, 'crime.zip'))\n",
    "dfs = {text_file.filename: pd.read_csv(zip_file.open(text_file.filename))\n",
    "       for text_file in zip_file.infolist()\n",
    "       if text_file.filename.endswith('.csv')}\n",
    "zip_file.close()"
   ],
   "metadata": {
    "collapsed": false,
    "pycharm": {
     "name": "#%%\n"
    }
   }
  },
  {
   "cell_type": "code",
   "execution_count": 154,
   "outputs": [
    {
     "name": "stdout",
     "output_type": "stream",
     "text": [
      "dict_keys(['crime.csv', 'offense_codes.csv'])\n",
      "(473344, 19)\n",
      "(299, 9)\n"
     ]
    }
   ],
   "source": [
    "print(dfs.keys())\n",
    "crime_data = dfs['crime.csv'].copy()\n",
    "offense_codes = dfs['offense_codes.csv'].copy()\n",
    "print(crime_data.shape)\n",
    "print(offense_codes.shape)"
   ],
   "metadata": {
    "collapsed": false,
    "pycharm": {
     "name": "#%%\n"
    }
   }
  },
  {
   "cell_type": "markdown",
   "source": [
    "# Preprocessing"
   ],
   "metadata": {
    "collapsed": false,
    "pycharm": {
     "name": "#%% md\n"
    }
   }
  },
  {
   "cell_type": "code",
   "execution_count": 155,
   "outputs": [
    {
     "name": "stdout",
     "output_type": "stream",
     "text": [
      "set()\n",
      "**************************************************\n",
      "{'address_city', 'address_state', 'address_street_line_1', 'address_street_line_2', 'address_name', 'address_zip_code'}\n",
      "**************************************************\n",
      "1227\n"
     ]
    }
   ],
   "source": [
    "arrests_2019_cols = set(arrests_2019.columns)\n",
    "arrests_2020_cols = set(arrests_2020.columns)\n",
    "print(arrests_2019_cols.difference(arrests_2020_cols))\n",
    "print(\"*\" * 50)\n",
    "print(arrests_2020_cols.difference(arrests_2019_cols))\n",
    "print(\"*\" * 50)\n",
    "print(len(arrests_2020_cols.intersection(arrests_2019_cols)))"
   ],
   "metadata": {
    "collapsed": false,
    "pycharm": {
     "name": "#%%\n"
    }
   }
  },
  {
   "cell_type": "code",
   "execution_count": 156,
   "outputs": [],
   "source": [
    "columns_to_remove = list(arrests_2020_cols.difference(arrests_2019_cols))\n",
    "arrests_2020.drop(columns_to_remove, axis=1, inplace=True)\n",
    "assert arrests_2019.shape[1] == arrests_2020.shape[1]"
   ],
   "metadata": {
    "collapsed": false,
    "pycharm": {
     "name": "#%%\n"
    }
   }
  },
  {
   "cell_type": "code",
   "execution_count": 157,
   "outputs": [
    {
     "data": {
      "text/plain": "       ori       ori9  population agency_name  year     month   state  \\\n0  AK00101  AK0010100      286388   anchorage  2020     april  alaska   \n1  AK00101  AK0010100      286388   anchorage  2020    august  alaska   \n2  AK00101  AK0010100      286388   anchorage  2020  december  alaska   \n3  AK00101  AK0010100      286388   anchorage  2020  february  alaska   \n4  AK00101  AK0010100      286388   anchorage  2020   january  alaska   \n\n  state_abb           population_group country_division  ... weapons_tot_male  \\\n0        AK  city 250,000 thru 499,999          pacific  ...               13   \n1        AK  city 250,000 thru 499,999          pacific  ...                6   \n2        AK  city 250,000 thru 499,999          pacific  ...                6   \n3        AK  city 250,000 thru 499,999          pacific  ...               11   \n4        AK  city 250,000 thru 499,999          pacific  ...               14   \n\n  weapons_tot_male_adult weapons_tot_male_juv weapons_tot_non_hisp  \\\n0                     12                    1                    0   \n1                      4                    2                    0   \n2                      6                    0                    0   \n3                      8                    3                    0   \n4                     13                    1                    0   \n\n  weapons_tot_white juv_handled_within_department juv_referred_to_juv_court  \\\n0                 9                             0                         0   \n1                 2                             0                         0   \n2                 3                             0                         0   \n3                 6                             0                         0   \n4                 7                             0                         0   \n\n   juv_referred_to_welfare  juv_referred_to_police  juv_referred_to_crim_court  \n0                        0                       0                           0  \n1                        0                       0                           0  \n2                        0                       0                           0  \n3                        0                       0                           0  \n4                        0                       0                           0  \n\n[5 rows x 1227 columns]",
      "text/html": "<div>\n<style scoped>\n    .dataframe tbody tr th:only-of-type {\n        vertical-align: middle;\n    }\n\n    .dataframe tbody tr th {\n        vertical-align: top;\n    }\n\n    .dataframe thead th {\n        text-align: right;\n    }\n</style>\n<table border=\"1\" class=\"dataframe\">\n  <thead>\n    <tr style=\"text-align: right;\">\n      <th></th>\n      <th>ori</th>\n      <th>ori9</th>\n      <th>population</th>\n      <th>agency_name</th>\n      <th>year</th>\n      <th>month</th>\n      <th>state</th>\n      <th>state_abb</th>\n      <th>population_group</th>\n      <th>country_division</th>\n      <th>...</th>\n      <th>weapons_tot_male</th>\n      <th>weapons_tot_male_adult</th>\n      <th>weapons_tot_male_juv</th>\n      <th>weapons_tot_non_hisp</th>\n      <th>weapons_tot_white</th>\n      <th>juv_handled_within_department</th>\n      <th>juv_referred_to_juv_court</th>\n      <th>juv_referred_to_welfare</th>\n      <th>juv_referred_to_police</th>\n      <th>juv_referred_to_crim_court</th>\n    </tr>\n  </thead>\n  <tbody>\n    <tr>\n      <th>0</th>\n      <td>AK00101</td>\n      <td>AK0010100</td>\n      <td>286388</td>\n      <td>anchorage</td>\n      <td>2020</td>\n      <td>april</td>\n      <td>alaska</td>\n      <td>AK</td>\n      <td>city 250,000 thru 499,999</td>\n      <td>pacific</td>\n      <td>...</td>\n      <td>13</td>\n      <td>12</td>\n      <td>1</td>\n      <td>0</td>\n      <td>9</td>\n      <td>0</td>\n      <td>0</td>\n      <td>0</td>\n      <td>0</td>\n      <td>0</td>\n    </tr>\n    <tr>\n      <th>1</th>\n      <td>AK00101</td>\n      <td>AK0010100</td>\n      <td>286388</td>\n      <td>anchorage</td>\n      <td>2020</td>\n      <td>august</td>\n      <td>alaska</td>\n      <td>AK</td>\n      <td>city 250,000 thru 499,999</td>\n      <td>pacific</td>\n      <td>...</td>\n      <td>6</td>\n      <td>4</td>\n      <td>2</td>\n      <td>0</td>\n      <td>2</td>\n      <td>0</td>\n      <td>0</td>\n      <td>0</td>\n      <td>0</td>\n      <td>0</td>\n    </tr>\n    <tr>\n      <th>2</th>\n      <td>AK00101</td>\n      <td>AK0010100</td>\n      <td>286388</td>\n      <td>anchorage</td>\n      <td>2020</td>\n      <td>december</td>\n      <td>alaska</td>\n      <td>AK</td>\n      <td>city 250,000 thru 499,999</td>\n      <td>pacific</td>\n      <td>...</td>\n      <td>6</td>\n      <td>6</td>\n      <td>0</td>\n      <td>0</td>\n      <td>3</td>\n      <td>0</td>\n      <td>0</td>\n      <td>0</td>\n      <td>0</td>\n      <td>0</td>\n    </tr>\n    <tr>\n      <th>3</th>\n      <td>AK00101</td>\n      <td>AK0010100</td>\n      <td>286388</td>\n      <td>anchorage</td>\n      <td>2020</td>\n      <td>february</td>\n      <td>alaska</td>\n      <td>AK</td>\n      <td>city 250,000 thru 499,999</td>\n      <td>pacific</td>\n      <td>...</td>\n      <td>11</td>\n      <td>8</td>\n      <td>3</td>\n      <td>0</td>\n      <td>6</td>\n      <td>0</td>\n      <td>0</td>\n      <td>0</td>\n      <td>0</td>\n      <td>0</td>\n    </tr>\n    <tr>\n      <th>4</th>\n      <td>AK00101</td>\n      <td>AK0010100</td>\n      <td>286388</td>\n      <td>anchorage</td>\n      <td>2020</td>\n      <td>january</td>\n      <td>alaska</td>\n      <td>AK</td>\n      <td>city 250,000 thru 499,999</td>\n      <td>pacific</td>\n      <td>...</td>\n      <td>14</td>\n      <td>13</td>\n      <td>1</td>\n      <td>0</td>\n      <td>7</td>\n      <td>0</td>\n      <td>0</td>\n      <td>0</td>\n      <td>0</td>\n      <td>0</td>\n    </tr>\n  </tbody>\n</table>\n<p>5 rows × 1227 columns</p>\n</div>"
     },
     "execution_count": 157,
     "metadata": {},
     "output_type": "execute_result"
    }
   ],
   "source": [
    "arrests_2020.head()"
   ],
   "metadata": {
    "collapsed": false,
    "pycharm": {
     "name": "#%%\n"
    }
   }
  },
  {
   "cell_type": "code",
   "execution_count": 160,
   "outputs": [],
   "source": [
    "arrests_2020_filtered = arrests_2020.query(\"state_abb == 'CO'\").copy()\n",
    "arrests_2019_filtered = arrests_2019.query(\"state_abb == 'CO'\").copy()"
   ],
   "metadata": {
    "collapsed": false,
    "pycharm": {
     "name": "#%%\n"
    }
   }
  },
  {
   "cell_type": "code",
   "execution_count": 161,
   "outputs": [],
   "source": [
    "arrests_2020.loc[(arrests_2020['fips_state_county_code'] == '') &\n",
    "                 (arrests_2020['agency_name'] == 'us secret service, denve'), 'fips_state_county_code'] = '08031'"
   ],
   "metadata": {
    "collapsed": false,
    "pycharm": {
     "name": "#%%\n"
    }
   }
  },
  {
   "cell_type": "code",
   "execution_count": 162,
   "outputs": [],
   "source": [
    "arrests_2019.loc[(arrests_2019['fips_state_county_code'] == '') &\n",
    "                 (arrests_2019['agency_name'] == 'us secret service, denve'), 'fips_state_county_code'] = '08031'"
   ],
   "metadata": {
    "collapsed": false,
    "pycharm": {
     "name": "#%%\n"
    }
   }
  },
  {
   "cell_type": "code",
   "execution_count": 163,
   "outputs": [
    {
     "name": "stdout",
     "output_type": "stream",
     "text": [
      "(144, 1227)\n",
      "(156, 1227)\n"
     ]
    }
   ],
   "source": [
    "arrests_2020_filtered = arrests_2020_filtered.query(\"fips_state_county_code in ['08031', '08013', '08014']\").copy()\n",
    "arrests_2019_filtered = arrests_2019_filtered.query(\"fips_state_county_code in ['08031', '08013', '08014']\").copy()\n",
    "print(arrests_2020_filtered.shape)\n",
    "print(arrests_2019_filtered.shape)"
   ],
   "metadata": {
    "collapsed": false,
    "pycharm": {
     "name": "#%%\n"
    }
   }
  },
  {
   "cell_type": "code",
   "execution_count": 167,
   "outputs": [],
   "source": [
    "general_cols = arrests_2020_filtered.columns.to_list()[:14]\n",
    "arrest_cols = [col for col in arrests_2020_filtered.columns if 'tot_arrest' in col]\n",
    "arrests_2020_filtered = arrests_2020_filtered[general_cols + arrest_cols]\n",
    "arrests_2019_filtered = arrests_2019_filtered[general_cols + arrest_cols]"
   ],
   "metadata": {
    "collapsed": false,
    "pycharm": {
     "name": "#%%\n"
    }
   }
  },
  {
   "cell_type": "code",
   "execution_count": 168,
   "outputs": [
    {
     "name": "stdout",
     "output_type": "stream",
     "text": [
      "(300, 57)\n"
     ]
    }
   ],
   "source": [
    "arrests_df = pd.concat([arrests_2019_filtered, arrests_2020_filtered], axis=0)\n",
    "print(arrests_df.shape)"
   ],
   "metadata": {
    "collapsed": false,
    "pycharm": {
     "name": "#%%\n"
    }
   }
  },
  {
   "cell_type": "code",
   "execution_count": 169,
   "outputs": [
    {
     "data": {
      "text/plain": "           ori       ori9  population agency_name  year     month     state  \\\n14839  CO00700  CO0070000       58601     boulder  2019     april  colorado   \n14840  CO00700  CO0070000       58601     boulder  2019    august  colorado   \n14841  CO00700  CO0070000       58601     boulder  2019  december  colorado   \n14842  CO00700  CO0070000       58601     boulder  2019  february  colorado   \n14843  CO00700  CO0070000       58601     boulder  2019   january  colorado   \n\n      state_abb               population_group country_division  ...  \\\n14839        CO  msa-county 25,000 thru 99,999         mountain  ...   \n14840        CO  msa-county 25,000 thru 99,999         mountain  ...   \n14841        CO  msa-county 25,000 thru 99,999         mountain  ...   \n14842        CO  msa-county 25,000 thru 99,999         mountain  ...   \n14843        CO  msa-county 25,000 thru 99,999         mountain  ...   \n\n      sale_heroin_coke_tot_arrests sale_other_drug_tot_arrests  \\\n14839                            2                           0   \n14840                            2                           0   \n14841                            3                           0   \n14842                            2                           0   \n14843                            0                           0   \n\n      sale_synth_narc_tot_arrests stolen_prop_tot_arrests  \\\n14839                           0                       0   \n14840                           0                       0   \n14841                           0                       0   \n14842                           0                       0   \n14843                           0                       0   \n\n       suspicion_tot_arrests  theft_tot_arrests  total_drug_tot_arrests  \\\n14839                      0                  9                      18   \n14840                      0                  6                       8   \n14841                      0                 12                       8   \n14842                      0                  2                       9   \n14843                      0                  2                       9   \n\n       vagrancy_tot_arrests  vandalism_tot_arrests  weapons_tot_arrests  \n14839                     0                      2                    0  \n14840                     0                      3                    0  \n14841                     0                      5                    0  \n14842                     0                      5                    0  \n14843                     0                      0                    0  \n\n[5 rows x 57 columns]",
      "text/html": "<div>\n<style scoped>\n    .dataframe tbody tr th:only-of-type {\n        vertical-align: middle;\n    }\n\n    .dataframe tbody tr th {\n        vertical-align: top;\n    }\n\n    .dataframe thead th {\n        text-align: right;\n    }\n</style>\n<table border=\"1\" class=\"dataframe\">\n  <thead>\n    <tr style=\"text-align: right;\">\n      <th></th>\n      <th>ori</th>\n      <th>ori9</th>\n      <th>population</th>\n      <th>agency_name</th>\n      <th>year</th>\n      <th>month</th>\n      <th>state</th>\n      <th>state_abb</th>\n      <th>population_group</th>\n      <th>country_division</th>\n      <th>...</th>\n      <th>sale_heroin_coke_tot_arrests</th>\n      <th>sale_other_drug_tot_arrests</th>\n      <th>sale_synth_narc_tot_arrests</th>\n      <th>stolen_prop_tot_arrests</th>\n      <th>suspicion_tot_arrests</th>\n      <th>theft_tot_arrests</th>\n      <th>total_drug_tot_arrests</th>\n      <th>vagrancy_tot_arrests</th>\n      <th>vandalism_tot_arrests</th>\n      <th>weapons_tot_arrests</th>\n    </tr>\n  </thead>\n  <tbody>\n    <tr>\n      <th>14839</th>\n      <td>CO00700</td>\n      <td>CO0070000</td>\n      <td>58601</td>\n      <td>boulder</td>\n      <td>2019</td>\n      <td>april</td>\n      <td>colorado</td>\n      <td>CO</td>\n      <td>msa-county 25,000 thru 99,999</td>\n      <td>mountain</td>\n      <td>...</td>\n      <td>2</td>\n      <td>0</td>\n      <td>0</td>\n      <td>0</td>\n      <td>0</td>\n      <td>9</td>\n      <td>18</td>\n      <td>0</td>\n      <td>2</td>\n      <td>0</td>\n    </tr>\n    <tr>\n      <th>14840</th>\n      <td>CO00700</td>\n      <td>CO0070000</td>\n      <td>58601</td>\n      <td>boulder</td>\n      <td>2019</td>\n      <td>august</td>\n      <td>colorado</td>\n      <td>CO</td>\n      <td>msa-county 25,000 thru 99,999</td>\n      <td>mountain</td>\n      <td>...</td>\n      <td>2</td>\n      <td>0</td>\n      <td>0</td>\n      <td>0</td>\n      <td>0</td>\n      <td>6</td>\n      <td>8</td>\n      <td>0</td>\n      <td>3</td>\n      <td>0</td>\n    </tr>\n    <tr>\n      <th>14841</th>\n      <td>CO00700</td>\n      <td>CO0070000</td>\n      <td>58601</td>\n      <td>boulder</td>\n      <td>2019</td>\n      <td>december</td>\n      <td>colorado</td>\n      <td>CO</td>\n      <td>msa-county 25,000 thru 99,999</td>\n      <td>mountain</td>\n      <td>...</td>\n      <td>3</td>\n      <td>0</td>\n      <td>0</td>\n      <td>0</td>\n      <td>0</td>\n      <td>12</td>\n      <td>8</td>\n      <td>0</td>\n      <td>5</td>\n      <td>0</td>\n    </tr>\n    <tr>\n      <th>14842</th>\n      <td>CO00700</td>\n      <td>CO0070000</td>\n      <td>58601</td>\n      <td>boulder</td>\n      <td>2019</td>\n      <td>february</td>\n      <td>colorado</td>\n      <td>CO</td>\n      <td>msa-county 25,000 thru 99,999</td>\n      <td>mountain</td>\n      <td>...</td>\n      <td>2</td>\n      <td>0</td>\n      <td>0</td>\n      <td>0</td>\n      <td>0</td>\n      <td>2</td>\n      <td>9</td>\n      <td>0</td>\n      <td>5</td>\n      <td>0</td>\n    </tr>\n    <tr>\n      <th>14843</th>\n      <td>CO00700</td>\n      <td>CO0070000</td>\n      <td>58601</td>\n      <td>boulder</td>\n      <td>2019</td>\n      <td>january</td>\n      <td>colorado</td>\n      <td>CO</td>\n      <td>msa-county 25,000 thru 99,999</td>\n      <td>mountain</td>\n      <td>...</td>\n      <td>0</td>\n      <td>0</td>\n      <td>0</td>\n      <td>0</td>\n      <td>0</td>\n      <td>2</td>\n      <td>9</td>\n      <td>0</td>\n      <td>0</td>\n      <td>0</td>\n    </tr>\n  </tbody>\n</table>\n<p>5 rows × 57 columns</p>\n</div>"
     },
     "execution_count": 169,
     "metadata": {},
     "output_type": "execute_result"
    }
   ],
   "source": [
    "arrests_df.head()"
   ],
   "metadata": {
    "collapsed": false,
    "pycharm": {
     "name": "#%%\n"
    }
   }
  },
  {
   "cell_type": "code",
   "execution_count": 170,
   "outputs": [],
   "source": [
    "arrests_agg = (arrests_df\n",
    "               .groupby(['month', 'year', 'fips_state_county_code'], as_index=False)[arrest_cols].sum())"
   ],
   "metadata": {
    "collapsed": false,
    "pycharm": {
     "name": "#%%\n"
    }
   }
  },
  {
   "cell_type": "code",
   "execution_count": 178,
   "outputs": [],
   "source": [
    "population_norm = (arrests_df\n",
    "                   .groupby(['month', 'year', 'fips_state_county_code', 'fips_place_code'], as_index=False)[\n",
    "                       'population']\n",
    "                   .max()\n",
    "                   .groupby(['month', 'year', 'fips_state_county_code'], as_index=False)[['population']]\n",
    "                   .sum())"
   ],
   "metadata": {
    "collapsed": false,
    "pycharm": {
     "name": "#%%\n"
    }
   }
  },
  {
   "cell_type": "code",
   "execution_count": 180,
   "outputs": [
    {
     "name": "stdout",
     "output_type": "stream",
     "text": [
      "(72, 47)\n"
     ]
    }
   ],
   "source": [
    "merged = pd.merge(arrests_agg, population_norm, on=['month', 'year', 'fips_state_county_code'])\n",
    "print(merged.shape)"
   ],
   "metadata": {
    "collapsed": false,
    "pycharm": {
     "name": "#%%\n"
    }
   }
  },
  {
   "cell_type": "code",
   "execution_count": 181,
   "outputs": [
    {
     "data": {
      "text/plain": "   month  year fips_state_county_code  agg_assault_tot_arrests  \\\n0  april  2019                  08013                       18   \n1  april  2019                  08014                        1   \n2  april  2019                  08031                      143   \n3  april  2020                  08013                       23   \n4  april  2020                  08014                        1   \n\n   all_other_tot_arrests  arson_tot_arrests  burglary_tot_arrests  \\\n0                    532                  1                    12   \n1                     31                  0                     2   \n2                    848                  1                    38   \n3                    179                  7                    21   \n4                     11                  0                     0   \n\n   curfew_loiter_tot_arrests  disorder_cond_tot_arrests  \\\n0                          0                         24   \n1                          0                          1   \n2                         26                         62   \n3                          0                          9   \n4                          0                          0   \n\n   drunkenness_tot_arrests  ...  sale_other_drug_tot_arrests  \\\n0                        0  ...                            0   \n1                        0  ...                            4   \n2                        0  ...                            5   \n3                        0  ...                            1   \n4                        0  ...                            0   \n\n   sale_synth_narc_tot_arrests  stolen_prop_tot_arrests  \\\n0                            0                        3   \n1                            0                        0   \n2                            1                       12   \n3                            0                        0   \n4                            0                        1   \n\n   suspicion_tot_arrests  theft_tot_arrests  total_drug_tot_arrests  \\\n0                      0                105                      57   \n1                      0                 43                      26   \n2                      0                196                     350   \n3                      0                 71                       9   \n4                      0                 18                       3   \n\n   vagrancy_tot_arrests  vandalism_tot_arrests  weapons_tot_arrests  \\\n0                     0                     22                    5   \n1                     0                      5                    0   \n2                     2                     98                   73   \n3                     0                     19                    3   \n4                     0                      3                    1   \n\n   population  \n0      317073  \n1       70798  \n2      728941  \n3      315516  \n4       71795  \n\n[5 rows x 47 columns]",
      "text/html": "<div>\n<style scoped>\n    .dataframe tbody tr th:only-of-type {\n        vertical-align: middle;\n    }\n\n    .dataframe tbody tr th {\n        vertical-align: top;\n    }\n\n    .dataframe thead th {\n        text-align: right;\n    }\n</style>\n<table border=\"1\" class=\"dataframe\">\n  <thead>\n    <tr style=\"text-align: right;\">\n      <th></th>\n      <th>month</th>\n      <th>year</th>\n      <th>fips_state_county_code</th>\n      <th>agg_assault_tot_arrests</th>\n      <th>all_other_tot_arrests</th>\n      <th>arson_tot_arrests</th>\n      <th>burglary_tot_arrests</th>\n      <th>curfew_loiter_tot_arrests</th>\n      <th>disorder_cond_tot_arrests</th>\n      <th>drunkenness_tot_arrests</th>\n      <th>...</th>\n      <th>sale_other_drug_tot_arrests</th>\n      <th>sale_synth_narc_tot_arrests</th>\n      <th>stolen_prop_tot_arrests</th>\n      <th>suspicion_tot_arrests</th>\n      <th>theft_tot_arrests</th>\n      <th>total_drug_tot_arrests</th>\n      <th>vagrancy_tot_arrests</th>\n      <th>vandalism_tot_arrests</th>\n      <th>weapons_tot_arrests</th>\n      <th>population</th>\n    </tr>\n  </thead>\n  <tbody>\n    <tr>\n      <th>0</th>\n      <td>april</td>\n      <td>2019</td>\n      <td>08013</td>\n      <td>18</td>\n      <td>532</td>\n      <td>1</td>\n      <td>12</td>\n      <td>0</td>\n      <td>24</td>\n      <td>0</td>\n      <td>...</td>\n      <td>0</td>\n      <td>0</td>\n      <td>3</td>\n      <td>0</td>\n      <td>105</td>\n      <td>57</td>\n      <td>0</td>\n      <td>22</td>\n      <td>5</td>\n      <td>317073</td>\n    </tr>\n    <tr>\n      <th>1</th>\n      <td>april</td>\n      <td>2019</td>\n      <td>08014</td>\n      <td>1</td>\n      <td>31</td>\n      <td>0</td>\n      <td>2</td>\n      <td>0</td>\n      <td>1</td>\n      <td>0</td>\n      <td>...</td>\n      <td>4</td>\n      <td>0</td>\n      <td>0</td>\n      <td>0</td>\n      <td>43</td>\n      <td>26</td>\n      <td>0</td>\n      <td>5</td>\n      <td>0</td>\n      <td>70798</td>\n    </tr>\n    <tr>\n      <th>2</th>\n      <td>april</td>\n      <td>2019</td>\n      <td>08031</td>\n      <td>143</td>\n      <td>848</td>\n      <td>1</td>\n      <td>38</td>\n      <td>26</td>\n      <td>62</td>\n      <td>0</td>\n      <td>...</td>\n      <td>5</td>\n      <td>1</td>\n      <td>12</td>\n      <td>0</td>\n      <td>196</td>\n      <td>350</td>\n      <td>2</td>\n      <td>98</td>\n      <td>73</td>\n      <td>728941</td>\n    </tr>\n    <tr>\n      <th>3</th>\n      <td>april</td>\n      <td>2020</td>\n      <td>08013</td>\n      <td>23</td>\n      <td>179</td>\n      <td>7</td>\n      <td>21</td>\n      <td>0</td>\n      <td>9</td>\n      <td>0</td>\n      <td>...</td>\n      <td>1</td>\n      <td>0</td>\n      <td>0</td>\n      <td>0</td>\n      <td>71</td>\n      <td>9</td>\n      <td>0</td>\n      <td>19</td>\n      <td>3</td>\n      <td>315516</td>\n    </tr>\n    <tr>\n      <th>4</th>\n      <td>april</td>\n      <td>2020</td>\n      <td>08014</td>\n      <td>1</td>\n      <td>11</td>\n      <td>0</td>\n      <td>0</td>\n      <td>0</td>\n      <td>0</td>\n      <td>0</td>\n      <td>...</td>\n      <td>0</td>\n      <td>0</td>\n      <td>1</td>\n      <td>0</td>\n      <td>18</td>\n      <td>3</td>\n      <td>0</td>\n      <td>3</td>\n      <td>1</td>\n      <td>71795</td>\n    </tr>\n  </tbody>\n</table>\n<p>5 rows × 47 columns</p>\n</div>"
     },
     "execution_count": 181,
     "metadata": {},
     "output_type": "execute_result"
    }
   ],
   "source": [
    "merged.head()"
   ],
   "metadata": {
    "collapsed": false,
    "pycharm": {
     "name": "#%%\n"
    }
   }
  },
  {
   "cell_type": "code",
   "execution_count": 182,
   "outputs": [
    {
     "name": "stdout",
     "output_type": "stream",
     "text": [
      "9\n",
      "34\n",
      "43\n"
     ]
    }
   ],
   "source": [
    "violent_crime = ['agg_assault_tot_arrests', 'arson_tot_arrests', 'burglary_tot_arrests',\n",
    "                 'manslaught_neg_tot_arrests', 'murder_tot_arrests', 'oth_assault_tot_arrests',\n",
    "                 'oth_sex_off_tot_arrests', 'rape_tot_arrests', 'robbery_tot_arrests']\n",
    "non_violent = list(set(arrest_cols).difference(set(violent_crime)))\n",
    "print(len(violent_crime))\n",
    "print(len(non_violent))\n",
    "print(len(arrest_cols))"
   ],
   "metadata": {
    "collapsed": false,
    "pycharm": {
     "name": "#%%\n"
    }
   }
  },
  {
   "cell_type": "markdown",
   "source": [
    "# EDA"
   ],
   "metadata": {
    "collapsed": false,
    "pycharm": {
     "name": "#%% md\n"
    }
   }
  },
  {
   "cell_type": "code",
   "execution_count": 185,
   "outputs": [
    {
     "data": {
      "text/plain": "   month  year fips_state_county_code  agg_assault_tot_arrests  \\\n0  april  2019                  08013                       18   \n1  april  2019                  08014                        1   \n2  april  2019                  08031                      143   \n3  april  2020                  08013                       23   \n4  april  2020                  08014                        1   \n\n   all_other_tot_arrests  arson_tot_arrests  burglary_tot_arrests  \\\n0                    532                  1                    12   \n1                     31                  0                     2   \n2                    848                  1                    38   \n3                    179                  7                    21   \n4                     11                  0                     0   \n\n   curfew_loiter_tot_arrests  disorder_cond_tot_arrests  \\\n0                          0                         24   \n1                          0                          1   \n2                         26                         62   \n3                          0                          9   \n4                          0                          0   \n\n   drunkenness_tot_arrests  ...  sale_other_drug_tot_arrests  \\\n0                        0  ...                            0   \n1                        0  ...                            4   \n2                        0  ...                            5   \n3                        0  ...                            1   \n4                        0  ...                            0   \n\n   sale_synth_narc_tot_arrests  stolen_prop_tot_arrests  \\\n0                            0                        3   \n1                            0                        0   \n2                            1                       12   \n3                            0                        0   \n4                            0                        1   \n\n   suspicion_tot_arrests  theft_tot_arrests  total_drug_tot_arrests  \\\n0                      0                105                      57   \n1                      0                 43                      26   \n2                      0                196                     350   \n3                      0                 71                       9   \n4                      0                 18                       3   \n\n   vagrancy_tot_arrests  vandalism_tot_arrests  weapons_tot_arrests  \\\n0                     0                     22                    5   \n1                     0                      5                    0   \n2                     2                     98                   73   \n3                     0                     19                    3   \n4                     0                      3                    1   \n\n   population  \n0      317073  \n1       70798  \n2      728941  \n3      315516  \n4       71795  \n\n[5 rows x 47 columns]",
      "text/html": "<div>\n<style scoped>\n    .dataframe tbody tr th:only-of-type {\n        vertical-align: middle;\n    }\n\n    .dataframe tbody tr th {\n        vertical-align: top;\n    }\n\n    .dataframe thead th {\n        text-align: right;\n    }\n</style>\n<table border=\"1\" class=\"dataframe\">\n  <thead>\n    <tr style=\"text-align: right;\">\n      <th></th>\n      <th>month</th>\n      <th>year</th>\n      <th>fips_state_county_code</th>\n      <th>agg_assault_tot_arrests</th>\n      <th>all_other_tot_arrests</th>\n      <th>arson_tot_arrests</th>\n      <th>burglary_tot_arrests</th>\n      <th>curfew_loiter_tot_arrests</th>\n      <th>disorder_cond_tot_arrests</th>\n      <th>drunkenness_tot_arrests</th>\n      <th>...</th>\n      <th>sale_other_drug_tot_arrests</th>\n      <th>sale_synth_narc_tot_arrests</th>\n      <th>stolen_prop_tot_arrests</th>\n      <th>suspicion_tot_arrests</th>\n      <th>theft_tot_arrests</th>\n      <th>total_drug_tot_arrests</th>\n      <th>vagrancy_tot_arrests</th>\n      <th>vandalism_tot_arrests</th>\n      <th>weapons_tot_arrests</th>\n      <th>population</th>\n    </tr>\n  </thead>\n  <tbody>\n    <tr>\n      <th>0</th>\n      <td>april</td>\n      <td>2019</td>\n      <td>08013</td>\n      <td>18</td>\n      <td>532</td>\n      <td>1</td>\n      <td>12</td>\n      <td>0</td>\n      <td>24</td>\n      <td>0</td>\n      <td>...</td>\n      <td>0</td>\n      <td>0</td>\n      <td>3</td>\n      <td>0</td>\n      <td>105</td>\n      <td>57</td>\n      <td>0</td>\n      <td>22</td>\n      <td>5</td>\n      <td>317073</td>\n    </tr>\n    <tr>\n      <th>1</th>\n      <td>april</td>\n      <td>2019</td>\n      <td>08014</td>\n      <td>1</td>\n      <td>31</td>\n      <td>0</td>\n      <td>2</td>\n      <td>0</td>\n      <td>1</td>\n      <td>0</td>\n      <td>...</td>\n      <td>4</td>\n      <td>0</td>\n      <td>0</td>\n      <td>0</td>\n      <td>43</td>\n      <td>26</td>\n      <td>0</td>\n      <td>5</td>\n      <td>0</td>\n      <td>70798</td>\n    </tr>\n    <tr>\n      <th>2</th>\n      <td>april</td>\n      <td>2019</td>\n      <td>08031</td>\n      <td>143</td>\n      <td>848</td>\n      <td>1</td>\n      <td>38</td>\n      <td>26</td>\n      <td>62</td>\n      <td>0</td>\n      <td>...</td>\n      <td>5</td>\n      <td>1</td>\n      <td>12</td>\n      <td>0</td>\n      <td>196</td>\n      <td>350</td>\n      <td>2</td>\n      <td>98</td>\n      <td>73</td>\n      <td>728941</td>\n    </tr>\n    <tr>\n      <th>3</th>\n      <td>april</td>\n      <td>2020</td>\n      <td>08013</td>\n      <td>23</td>\n      <td>179</td>\n      <td>7</td>\n      <td>21</td>\n      <td>0</td>\n      <td>9</td>\n      <td>0</td>\n      <td>...</td>\n      <td>1</td>\n      <td>0</td>\n      <td>0</td>\n      <td>0</td>\n      <td>71</td>\n      <td>9</td>\n      <td>0</td>\n      <td>19</td>\n      <td>3</td>\n      <td>315516</td>\n    </tr>\n    <tr>\n      <th>4</th>\n      <td>april</td>\n      <td>2020</td>\n      <td>08014</td>\n      <td>1</td>\n      <td>11</td>\n      <td>0</td>\n      <td>0</td>\n      <td>0</td>\n      <td>0</td>\n      <td>0</td>\n      <td>...</td>\n      <td>0</td>\n      <td>0</td>\n      <td>1</td>\n      <td>0</td>\n      <td>18</td>\n      <td>3</td>\n      <td>0</td>\n      <td>3</td>\n      <td>1</td>\n      <td>71795</td>\n    </tr>\n  </tbody>\n</table>\n<p>5 rows × 47 columns</p>\n</div>"
     },
     "execution_count": 185,
     "metadata": {},
     "output_type": "execute_result"
    }
   ],
   "source": [
    "merged.head()"
   ],
   "metadata": {
    "collapsed": false,
    "pycharm": {
     "name": "#%%\n"
    }
   }
  },
  {
   "cell_type": "code",
   "execution_count": 192,
   "outputs": [
    {
     "name": "stdout",
     "output_type": "stream",
     "text": [
      "(72, 38)\n"
     ]
    }
   ],
   "source": [
    "non_violent_df = merged[['month', 'year', 'fips_state_county_code', 'population'] + non_violent].copy()\n",
    "print(non_violent_df.shape)"
   ],
   "metadata": {
    "collapsed": false,
    "pycharm": {
     "name": "#%%\n"
    }
   }
  },
  {
   "cell_type": "code",
   "execution_count": 194,
   "outputs": [
    {
     "data": {
      "text/plain": "   month  year fips_state_county_code  population  fraud_tot_arrests  \\\n0  april  2019                  08013      317073                 11   \n1  april  2019                  08014       70798                  6   \n2  april  2019                  08031      728941                 33   \n3  april  2020                  08013      315516                  4   \n4  april  2020                  08014       71795                  2   \n\n   weapons_tot_arrests  gamble_bookmake_tot_arrests  drunkenness_tot_arrests  \\\n0                    5                            0                        0   \n1                    0                            0                        0   \n2                   73                            0                        0   \n3                    3                            0                        0   \n4                    1                            0                        0   \n\n   curfew_loiter_tot_arrests  poss_drug_total_tot_arrests  ...  \\\n0                          0                           49  ...   \n1                          0                           21  ...   \n2                         26                          306  ...   \n3                          0                            8  ...   \n4                          0                            2  ...   \n\n   gamble_lottery_tot_arrests  gamble_total_tot_arrests  \\\n0                           0                         0   \n1                           0                         0   \n2                           0                         0   \n3                           0                         0   \n4                           0                         0   \n\n   suspicion_tot_arrests  vagrancy_tot_arrests  theft_tot_arrests  \\\n0                      0                     0                105   \n1                      0                     0                 43   \n2                      0                     2                196   \n3                      0                     0                 71   \n4                      0                     0                 18   \n\n   sale_synth_narc_tot_arrests  sale_other_drug_tot_arrests  \\\n0                            0                            0   \n1                            0                            4   \n2                            1                            5   \n3                            0                            1   \n4                            0                            0   \n\n   total_drug_tot_arrests  grand_total  arrest_rate_gt  \n0                      57         1038      327.369407  \n1                      26          176      248.594593  \n2                     350         3227      442.697008  \n3                       9          400      126.776455  \n4                       3           52       72.428442  \n\n[5 rows x 40 columns]",
      "text/html": "<div>\n<style scoped>\n    .dataframe tbody tr th:only-of-type {\n        vertical-align: middle;\n    }\n\n    .dataframe tbody tr th {\n        vertical-align: top;\n    }\n\n    .dataframe thead th {\n        text-align: right;\n    }\n</style>\n<table border=\"1\" class=\"dataframe\">\n  <thead>\n    <tr style=\"text-align: right;\">\n      <th></th>\n      <th>month</th>\n      <th>year</th>\n      <th>fips_state_county_code</th>\n      <th>population</th>\n      <th>fraud_tot_arrests</th>\n      <th>weapons_tot_arrests</th>\n      <th>gamble_bookmake_tot_arrests</th>\n      <th>drunkenness_tot_arrests</th>\n      <th>curfew_loiter_tot_arrests</th>\n      <th>poss_drug_total_tot_arrests</th>\n      <th>...</th>\n      <th>gamble_lottery_tot_arrests</th>\n      <th>gamble_total_tot_arrests</th>\n      <th>suspicion_tot_arrests</th>\n      <th>vagrancy_tot_arrests</th>\n      <th>theft_tot_arrests</th>\n      <th>sale_synth_narc_tot_arrests</th>\n      <th>sale_other_drug_tot_arrests</th>\n      <th>total_drug_tot_arrests</th>\n      <th>grand_total</th>\n      <th>arrest_rate_gt</th>\n    </tr>\n  </thead>\n  <tbody>\n    <tr>\n      <th>0</th>\n      <td>april</td>\n      <td>2019</td>\n      <td>08013</td>\n      <td>317073</td>\n      <td>11</td>\n      <td>5</td>\n      <td>0</td>\n      <td>0</td>\n      <td>0</td>\n      <td>49</td>\n      <td>...</td>\n      <td>0</td>\n      <td>0</td>\n      <td>0</td>\n      <td>0</td>\n      <td>105</td>\n      <td>0</td>\n      <td>0</td>\n      <td>57</td>\n      <td>1038</td>\n      <td>327.369407</td>\n    </tr>\n    <tr>\n      <th>1</th>\n      <td>april</td>\n      <td>2019</td>\n      <td>08014</td>\n      <td>70798</td>\n      <td>6</td>\n      <td>0</td>\n      <td>0</td>\n      <td>0</td>\n      <td>0</td>\n      <td>21</td>\n      <td>...</td>\n      <td>0</td>\n      <td>0</td>\n      <td>0</td>\n      <td>0</td>\n      <td>43</td>\n      <td>0</td>\n      <td>4</td>\n      <td>26</td>\n      <td>176</td>\n      <td>248.594593</td>\n    </tr>\n    <tr>\n      <th>2</th>\n      <td>april</td>\n      <td>2019</td>\n      <td>08031</td>\n      <td>728941</td>\n      <td>33</td>\n      <td>73</td>\n      <td>0</td>\n      <td>0</td>\n      <td>26</td>\n      <td>306</td>\n      <td>...</td>\n      <td>0</td>\n      <td>0</td>\n      <td>0</td>\n      <td>2</td>\n      <td>196</td>\n      <td>1</td>\n      <td>5</td>\n      <td>350</td>\n      <td>3227</td>\n      <td>442.697008</td>\n    </tr>\n    <tr>\n      <th>3</th>\n      <td>april</td>\n      <td>2020</td>\n      <td>08013</td>\n      <td>315516</td>\n      <td>4</td>\n      <td>3</td>\n      <td>0</td>\n      <td>0</td>\n      <td>0</td>\n      <td>8</td>\n      <td>...</td>\n      <td>0</td>\n      <td>0</td>\n      <td>0</td>\n      <td>0</td>\n      <td>71</td>\n      <td>0</td>\n      <td>1</td>\n      <td>9</td>\n      <td>400</td>\n      <td>126.776455</td>\n    </tr>\n    <tr>\n      <th>4</th>\n      <td>april</td>\n      <td>2020</td>\n      <td>08014</td>\n      <td>71795</td>\n      <td>2</td>\n      <td>1</td>\n      <td>0</td>\n      <td>0</td>\n      <td>0</td>\n      <td>2</td>\n      <td>...</td>\n      <td>0</td>\n      <td>0</td>\n      <td>0</td>\n      <td>0</td>\n      <td>18</td>\n      <td>0</td>\n      <td>0</td>\n      <td>3</td>\n      <td>52</td>\n      <td>72.428442</td>\n    </tr>\n  </tbody>\n</table>\n<p>5 rows × 40 columns</p>\n</div>"
     },
     "execution_count": 194,
     "metadata": {},
     "output_type": "execute_result"
    }
   ],
   "source": [
    "non_violent_df['grand_total'] = np.sum(merged[non_violent], axis=1)\n",
    "non_violent_df['arrest_rate_gt'] = non_violent_df['grand_total'] / non_violent_df['population'] * 100_000\n",
    "non_violent_df.head()"
   ],
   "metadata": {
    "collapsed": false,
    "pycharm": {
     "name": "#%%\n"
    }
   }
  },
  {
   "cell_type": "code",
   "execution_count": 210,
   "outputs": [],
   "source": [
    "non_violent_df['year'] = non_violent_df['year'].astype(str)\n",
    "non_violent_df['day'] = \"01\""
   ],
   "metadata": {
    "collapsed": false,
    "pycharm": {
     "name": "#%%\n"
    }
   }
  },
  {
   "cell_type": "code",
   "execution_count": 211,
   "outputs": [],
   "source": [
    "non_violent_df['month'] = non_violent_df.month.str.capitalize()"
   ],
   "metadata": {
    "collapsed": false,
    "pycharm": {
     "name": "#%%\n"
    }
   }
  },
  {
   "cell_type": "code",
   "execution_count": 215,
   "outputs": [
    {
     "data": {
      "text/plain": "   month  year fips_state_county_code  population  fraud_tot_arrests  \\\n0  April  2019                  08013      317073                 11   \n1  April  2019                  08014       70798                  6   \n2  April  2019                  08031      728941                 33   \n3  April  2020                  08013      315516                  4   \n4  April  2020                  08014       71795                  2   \n\n   weapons_tot_arrests  gamble_bookmake_tot_arrests  drunkenness_tot_arrests  \\\n0                    5                            0                        0   \n1                    0                            0                        0   \n2                   73                            0                        0   \n3                    3                            0                        0   \n4                    1                            0                        0   \n\n   curfew_loiter_tot_arrests  poss_drug_total_tot_arrests  ...  \\\n0                          0                           49  ...   \n1                          0                           21  ...   \n2                         26                          306  ...   \n3                          0                            8  ...   \n4                          0                            2  ...   \n\n   suspicion_tot_arrests  vagrancy_tot_arrests  theft_tot_arrests  \\\n0                      0                     0                105   \n1                      0                     0                 43   \n2                      0                     2                196   \n3                      0                     0                 71   \n4                      0                     0                 18   \n\n   sale_synth_narc_tot_arrests  sale_other_drug_tot_arrests  \\\n0                            0                            0   \n1                            0                            4   \n2                            1                            5   \n3                            0                            1   \n4                            0                            0   \n\n   total_drug_tot_arrests  grand_total  arrest_rate_gt  day       date  \n0                      57         1038      327.369407   01 2019-04-01  \n1                      26          176      248.594593   01 2019-04-01  \n2                     350         3227      442.697008   01 2019-04-01  \n3                       9          400      126.776455   01 2020-04-01  \n4                       3           52       72.428442   01 2020-04-01  \n\n[5 rows x 42 columns]",
      "text/html": "<div>\n<style scoped>\n    .dataframe tbody tr th:only-of-type {\n        vertical-align: middle;\n    }\n\n    .dataframe tbody tr th {\n        vertical-align: top;\n    }\n\n    .dataframe thead th {\n        text-align: right;\n    }\n</style>\n<table border=\"1\" class=\"dataframe\">\n  <thead>\n    <tr style=\"text-align: right;\">\n      <th></th>\n      <th>month</th>\n      <th>year</th>\n      <th>fips_state_county_code</th>\n      <th>population</th>\n      <th>fraud_tot_arrests</th>\n      <th>weapons_tot_arrests</th>\n      <th>gamble_bookmake_tot_arrests</th>\n      <th>drunkenness_tot_arrests</th>\n      <th>curfew_loiter_tot_arrests</th>\n      <th>poss_drug_total_tot_arrests</th>\n      <th>...</th>\n      <th>suspicion_tot_arrests</th>\n      <th>vagrancy_tot_arrests</th>\n      <th>theft_tot_arrests</th>\n      <th>sale_synth_narc_tot_arrests</th>\n      <th>sale_other_drug_tot_arrests</th>\n      <th>total_drug_tot_arrests</th>\n      <th>grand_total</th>\n      <th>arrest_rate_gt</th>\n      <th>day</th>\n      <th>date</th>\n    </tr>\n  </thead>\n  <tbody>\n    <tr>\n      <th>0</th>\n      <td>April</td>\n      <td>2019</td>\n      <td>08013</td>\n      <td>317073</td>\n      <td>11</td>\n      <td>5</td>\n      <td>0</td>\n      <td>0</td>\n      <td>0</td>\n      <td>49</td>\n      <td>...</td>\n      <td>0</td>\n      <td>0</td>\n      <td>105</td>\n      <td>0</td>\n      <td>0</td>\n      <td>57</td>\n      <td>1038</td>\n      <td>327.369407</td>\n      <td>01</td>\n      <td>2019-04-01</td>\n    </tr>\n    <tr>\n      <th>1</th>\n      <td>April</td>\n      <td>2019</td>\n      <td>08014</td>\n      <td>70798</td>\n      <td>6</td>\n      <td>0</td>\n      <td>0</td>\n      <td>0</td>\n      <td>0</td>\n      <td>21</td>\n      <td>...</td>\n      <td>0</td>\n      <td>0</td>\n      <td>43</td>\n      <td>0</td>\n      <td>4</td>\n      <td>26</td>\n      <td>176</td>\n      <td>248.594593</td>\n      <td>01</td>\n      <td>2019-04-01</td>\n    </tr>\n    <tr>\n      <th>2</th>\n      <td>April</td>\n      <td>2019</td>\n      <td>08031</td>\n      <td>728941</td>\n      <td>33</td>\n      <td>73</td>\n      <td>0</td>\n      <td>0</td>\n      <td>26</td>\n      <td>306</td>\n      <td>...</td>\n      <td>0</td>\n      <td>2</td>\n      <td>196</td>\n      <td>1</td>\n      <td>5</td>\n      <td>350</td>\n      <td>3227</td>\n      <td>442.697008</td>\n      <td>01</td>\n      <td>2019-04-01</td>\n    </tr>\n    <tr>\n      <th>3</th>\n      <td>April</td>\n      <td>2020</td>\n      <td>08013</td>\n      <td>315516</td>\n      <td>4</td>\n      <td>3</td>\n      <td>0</td>\n      <td>0</td>\n      <td>0</td>\n      <td>8</td>\n      <td>...</td>\n      <td>0</td>\n      <td>0</td>\n      <td>71</td>\n      <td>0</td>\n      <td>1</td>\n      <td>9</td>\n      <td>400</td>\n      <td>126.776455</td>\n      <td>01</td>\n      <td>2020-04-01</td>\n    </tr>\n    <tr>\n      <th>4</th>\n      <td>April</td>\n      <td>2020</td>\n      <td>08014</td>\n      <td>71795</td>\n      <td>2</td>\n      <td>1</td>\n      <td>0</td>\n      <td>0</td>\n      <td>0</td>\n      <td>2</td>\n      <td>...</td>\n      <td>0</td>\n      <td>0</td>\n      <td>18</td>\n      <td>0</td>\n      <td>0</td>\n      <td>3</td>\n      <td>52</td>\n      <td>72.428442</td>\n      <td>01</td>\n      <td>2020-04-01</td>\n    </tr>\n  </tbody>\n</table>\n<p>5 rows × 42 columns</p>\n</div>"
     },
     "execution_count": 215,
     "metadata": {},
     "output_type": "execute_result"
    }
   ],
   "source": [
    "non_violent_df['date'] = pd.to_datetime(non_violent_df.year +\n",
    "                                        \"-\" + non_violent_df.month +\n",
    "                                        \"-\" + non_violent_df.day,\n",
    "                                        format=\"%Y-%B-%d\")\n",
    "non_violent_df.head()"
   ],
   "metadata": {
    "collapsed": false,
    "pycharm": {
     "name": "#%%\n"
    }
   }
  },
  {
   "cell_type": "code",
   "execution_count": 219,
   "outputs": [
    {
     "data": {
      "text/plain": "   month  year fips_state_county_code  population  fraud_tot_arrests  \\\n0  April  2019                  08013      317073                 11   \n1  April  2019                  08014       70798                  6   \n2  April  2019                  08031      728941                 33   \n3  April  2020                  08013      315516                  4   \n4  April  2020                  08014       71795                  2   \n\n   weapons_tot_arrests  gamble_bookmake_tot_arrests  drunkenness_tot_arrests  \\\n0                    5                            0                        0   \n1                    0                            0                        0   \n2                   73                            0                        0   \n3                    3                            0                        0   \n4                    1                            0                        0   \n\n   curfew_loiter_tot_arrests  poss_drug_total_tot_arrests  ...  \\\n0                          0                           49  ...   \n1                          0                           21  ...   \n2                         26                          306  ...   \n3                          0                            8  ...   \n4                          0                            2  ...   \n\n   theft_tot_arrests  sale_synth_narc_tot_arrests  \\\n0                105                            0   \n1                 43                            0   \n2                196                            1   \n3                 71                            0   \n4                 18                            0   \n\n   sale_other_drug_tot_arrests  total_drug_tot_arrests  grand_total  \\\n0                            0                      57         1038   \n1                            4                      26          176   \n2                            5                     350         3227   \n3                            1                       9          400   \n4                            0                       3           52   \n\n   arrest_rate_gt  day       date  post_treatment  treatment  \n0      327.369407   01 2019-04-01               0          0  \n1      248.594593   01 2019-04-01               0          0  \n2      442.697008   01 2019-04-01               0          1  \n3      126.776455   01 2020-04-01               0          0  \n4       72.428442   01 2020-04-01               0          0  \n\n[5 rows x 44 columns]",
      "text/html": "<div>\n<style scoped>\n    .dataframe tbody tr th:only-of-type {\n        vertical-align: middle;\n    }\n\n    .dataframe tbody tr th {\n        vertical-align: top;\n    }\n\n    .dataframe thead th {\n        text-align: right;\n    }\n</style>\n<table border=\"1\" class=\"dataframe\">\n  <thead>\n    <tr style=\"text-align: right;\">\n      <th></th>\n      <th>month</th>\n      <th>year</th>\n      <th>fips_state_county_code</th>\n      <th>population</th>\n      <th>fraud_tot_arrests</th>\n      <th>weapons_tot_arrests</th>\n      <th>gamble_bookmake_tot_arrests</th>\n      <th>drunkenness_tot_arrests</th>\n      <th>curfew_loiter_tot_arrests</th>\n      <th>poss_drug_total_tot_arrests</th>\n      <th>...</th>\n      <th>theft_tot_arrests</th>\n      <th>sale_synth_narc_tot_arrests</th>\n      <th>sale_other_drug_tot_arrests</th>\n      <th>total_drug_tot_arrests</th>\n      <th>grand_total</th>\n      <th>arrest_rate_gt</th>\n      <th>day</th>\n      <th>date</th>\n      <th>post_treatment</th>\n      <th>treatment</th>\n    </tr>\n  </thead>\n  <tbody>\n    <tr>\n      <th>0</th>\n      <td>April</td>\n      <td>2019</td>\n      <td>08013</td>\n      <td>317073</td>\n      <td>11</td>\n      <td>5</td>\n      <td>0</td>\n      <td>0</td>\n      <td>0</td>\n      <td>49</td>\n      <td>...</td>\n      <td>105</td>\n      <td>0</td>\n      <td>0</td>\n      <td>57</td>\n      <td>1038</td>\n      <td>327.369407</td>\n      <td>01</td>\n      <td>2019-04-01</td>\n      <td>0</td>\n      <td>0</td>\n    </tr>\n    <tr>\n      <th>1</th>\n      <td>April</td>\n      <td>2019</td>\n      <td>08014</td>\n      <td>70798</td>\n      <td>6</td>\n      <td>0</td>\n      <td>0</td>\n      <td>0</td>\n      <td>0</td>\n      <td>21</td>\n      <td>...</td>\n      <td>43</td>\n      <td>0</td>\n      <td>4</td>\n      <td>26</td>\n      <td>176</td>\n      <td>248.594593</td>\n      <td>01</td>\n      <td>2019-04-01</td>\n      <td>0</td>\n      <td>0</td>\n    </tr>\n    <tr>\n      <th>2</th>\n      <td>April</td>\n      <td>2019</td>\n      <td>08031</td>\n      <td>728941</td>\n      <td>33</td>\n      <td>73</td>\n      <td>0</td>\n      <td>0</td>\n      <td>26</td>\n      <td>306</td>\n      <td>...</td>\n      <td>196</td>\n      <td>1</td>\n      <td>5</td>\n      <td>350</td>\n      <td>3227</td>\n      <td>442.697008</td>\n      <td>01</td>\n      <td>2019-04-01</td>\n      <td>0</td>\n      <td>1</td>\n    </tr>\n    <tr>\n      <th>3</th>\n      <td>April</td>\n      <td>2020</td>\n      <td>08013</td>\n      <td>315516</td>\n      <td>4</td>\n      <td>3</td>\n      <td>0</td>\n      <td>0</td>\n      <td>0</td>\n      <td>8</td>\n      <td>...</td>\n      <td>71</td>\n      <td>0</td>\n      <td>1</td>\n      <td>9</td>\n      <td>400</td>\n      <td>126.776455</td>\n      <td>01</td>\n      <td>2020-04-01</td>\n      <td>0</td>\n      <td>0</td>\n    </tr>\n    <tr>\n      <th>4</th>\n      <td>April</td>\n      <td>2020</td>\n      <td>08014</td>\n      <td>71795</td>\n      <td>2</td>\n      <td>1</td>\n      <td>0</td>\n      <td>0</td>\n      <td>0</td>\n      <td>2</td>\n      <td>...</td>\n      <td>18</td>\n      <td>0</td>\n      <td>0</td>\n      <td>3</td>\n      <td>52</td>\n      <td>72.428442</td>\n      <td>01</td>\n      <td>2020-04-01</td>\n      <td>0</td>\n      <td>0</td>\n    </tr>\n  </tbody>\n</table>\n<p>5 rows × 44 columns</p>\n</div>"
     },
     "execution_count": 219,
     "metadata": {},
     "output_type": "execute_result"
    }
   ],
   "source": [
    "post_treatment = \"2020-June-01\"\n",
    "treatment_group = \"08031\"\n",
    "non_violent_df['post_treatment'] = np.where(non_violent_df['date'] >= post_treatment, 1, 0)\n",
    "non_violent_df['treatment'] = np.where(non_violent_df['fips_state_county_code'] == treatment_group, 1, 0)\n",
    "non_violent_df.head()"
   ],
   "metadata": {
    "collapsed": false,
    "pycharm": {
     "name": "#%%\n"
    }
   }
  },
  {
   "cell_type": "code",
   "execution_count": 222,
   "outputs": [],
   "source": [
    "non_violent_df = non_violent_df.query(\"fips_state_county_code in ['08031', '08014']\")"
   ],
   "metadata": {
    "collapsed": false,
    "pycharm": {
     "name": "#%%\n"
    }
   }
  },
  {
   "cell_type": "code",
   "execution_count": 223,
   "outputs": [
    {
     "data": {
      "text/plain": "        month  year fips_state_county_code  population  fraud_tot_arrests  \\\n1       April  2019                  08014       70798                  6   \n2       April  2019                  08031      728941                 33   \n4       April  2020                  08014       71795                  2   \n5       April  2020                  08031      737709                 18   \n7      August  2019                  08014       70798                  7   \n8      August  2019                  08031      728941                 33   \n10     August  2020                  08014       71795                  5   \n11     August  2020                  08031      737709                 13   \n13   December  2019                  08014       70798                  6   \n14   December  2019                  08031      728941                 23   \n16   December  2020                  08014       71795                  2   \n17   December  2020                  08031      737709                 18   \n19   February  2019                  08014       70798                  9   \n20   February  2019                  08031      728941                 38   \n22   February  2020                  08014       71795                  3   \n23   February  2020                  08031      737709                 28   \n25    January  2019                  08014       70798                  2   \n26    January  2019                  08031      728941                 34   \n28    January  2020                  08014       71795                  6   \n29    January  2020                  08031      737709                 38   \n31       July  2019                  08014       70798                  3   \n32       July  2019                  08031      728941                 42   \n34       July  2020                  08014       71795                  0   \n35       July  2020                  08031      737709                 20   \n37       June  2019                  08014       70798                  0   \n38       June  2019                  08031      728941                 20   \n40       June  2020                  08014       71795                  0   \n41       June  2020                  08031      737709                 17   \n43      March  2019                  08014       70798                  7   \n44      March  2019                  08031      728941                 31   \n46      March  2020                  08014       71795                  3   \n47      March  2020                  08031      737709                 19   \n49        May  2019                  08014       70798                  4   \n50        May  2019                  08031      728941                 24   \n52        May  2020                  08014       71795                  4   \n53        May  2020                  08031      737709                 26   \n55   November  2019                  08014       70798                  8   \n56   November  2019                  08031      728941                 19   \n58   November  2020                  08014       71795                  1   \n59   November  2020                  08031      737709                 18   \n61    October  2019                  08014       70798                 12   \n62    October  2019                  08031      728941                 30   \n64    October  2020                  08014       71795                  7   \n65    October  2020                  08031      737709                 14   \n67  September  2019                  08014       70798                  6   \n68  September  2019                  08031      728941                 26   \n70  September  2020                  08014       71795                  0   \n71  September  2020                  08031      737709                 23   \n\n    weapons_tot_arrests  gamble_bookmake_tot_arrests  drunkenness_tot_arrests  \\\n1                     0                            0                        0   \n2                    73                            0                        0   \n4                     1                            0                        0   \n5                    62                            0                        0   \n7                     0                            0                        0   \n8                    89                            0                        0   \n10                    0                            0                        0   \n11                   68                            0                        0   \n13                    1                            0                        0   \n14                   56                            0                        0   \n16                    5                            0                        0   \n17                   68                            0                        0   \n19                    3                            0                        0   \n20                   79                            0                        0   \n22                    0                            0                        0   \n23                   72                            0                        1   \n25                    3                            0                        0   \n26                   72                            0                        0   \n28                    0                            0                        0   \n29                   99                            0                        0   \n31                    0                            0                        0   \n32                   77                            0                        0   \n34                    0                            0                        0   \n35                   61                            0                        0   \n37                    0                            0                        0   \n38                   65                            0                        0   \n40                    1                            0                        0   \n41                   78                            0                        0   \n43                    3                            0                        0   \n44                   74                            0                        0   \n46                    1                            0                        0   \n47                   57                            0                        0   \n49                    3                            0                        0   \n50                   62                            0                        0   \n52                    1                            0                        0   \n53                   85                            0                        0   \n55                    2                            0                        0   \n56                   76                            0                        0   \n58                    1                            0                        0   \n59                   47                            0                        0   \n61                    2                            0                        0   \n62                   62                            0                        0   \n64                    1                            0                        0   \n65                   66                            0                        0   \n67                    2                            0                        0   \n68                   89                            0                        0   \n70                    1                            0                        0   \n71                   77                            0                        0   \n\n    curfew_loiter_tot_arrests  poss_drug_total_tot_arrests  ...  \\\n1                           0                           21  ...   \n2                          26                          306  ...   \n4                           0                            2  ...   \n5                           7                           89  ...   \n7                           0                           15  ...   \n8                          19                          289  ...   \n10                          0                            3  ...   \n11                         15                          140  ...   \n13                          0                           27  ...   \n14                          0                          231  ...   \n16                          0                            6  ...   \n17                          1                          138  ...   \n19                          0                           23  ...   \n20                          1                          294  ...   \n22                          0                           27  ...   \n23                          0                          221  ...   \n25                          0                           13  ...   \n26                          0                          358  ...   \n28                          0                           19  ...   \n29                          7                          305  ...   \n31                          0                           14  ...   \n32                         36                          302  ...   \n34                          0                            4  ...   \n35                         12                          120  ...   \n37                          0                           21  ...   \n38                         46                          273  ...   \n40                          0                            6  ...   \n41                         15                           70  ...   \n43                          0                           25  ...   \n44                          4                          287  ...   \n46                          0                           17  ...   \n47                          4                          159  ...   \n49                          0                           20  ...   \n50                         40                          328  ...   \n52                          0                            1  ...   \n53                         30                          174  ...   \n55                          0                           17  ...   \n56                          0                          231  ...   \n58                          0                            1  ...   \n59                          3                           94  ...   \n61                          0                           23  ...   \n62                          4                          237  ...   \n64                          0                           14  ...   \n65                          0                          124  ...   \n67                          0                           32  ...   \n68                         25                          241  ...   \n70                          0                            7  ...   \n71                          2                          143  ...   \n\n    theft_tot_arrests  sale_synth_narc_tot_arrests  \\\n1                  43                            0   \n2                 196                            1   \n4                  18                            0   \n5                 166                            0   \n7                  20                            0   \n8                 245                            0   \n10                 16                            0   \n11                105                            0   \n13                 39                            0   \n14                188                            0   \n16                 17                            0   \n17                145                            2   \n19                 23                            0   \n20                221                            2   \n22                 29                            0   \n23                193                            1   \n25                 12                            0   \n26                237                            0   \n28                 27                            0   \n29                213                            0   \n31                 34                            0   \n32                229                            0   \n34                 25                            0   \n35                 84                            0   \n37                 42                            0   \n38                194                            0   \n40                 12                            0   \n41                129                            1   \n43                 17                            0   \n44                226                            0   \n46                 16                            0   \n47                180                            0   \n49                 34                            0   \n50                180                            1   \n52                 18                            0   \n53                148                            2   \n55                 43                            0   \n56                212                            2   \n58                 14                            0   \n59                 93                            0   \n61                 31                            0   \n62                217                            1   \n64                 15                            0   \n65                115                            2   \n67                 26                            0   \n68                220                            1   \n70                 27                            0   \n71                 93                            0   \n\n    sale_other_drug_tot_arrests  total_drug_tot_arrests  grand_total  \\\n1                             4                      26          176   \n2                             5                     350         3227   \n4                             0                       3           52   \n5                             5                     111         1580   \n7                             2                      18          164   \n8                            14                     360         3468   \n10                            0                       3           63   \n11                           11                     174         1883   \n13                            0                      31          183   \n14                            6                     277         2777   \n16                            1                       7           78   \n17                           18                     185         1883   \n19                            1                      24          155   \n20                            6                     343         2955   \n22                            0                      29          162   \n23                           18                     305         2892   \n25                            0                      13          110   \n26                           12                     414         3194   \n28                            1                      21          144   \n29                           16                     359         3402   \n31                            0                      14          131   \n32                           22                     373         3291   \n34                            0                       5           76   \n35                           14                     157         1715   \n37                            0                      22          148   \n38                           16                     347         3078   \n40                            0                       6           62   \n41                            8                      92         1693   \n43                            2                      31          170   \n44                           12                     329         3058   \n46                            1                      18          109   \n47                           14                     208         2356   \n49                            0                      20          157   \n50                           12                     373         3307   \n52                            0                       1           60   \n53                           11                     221         2386   \n55                            1                      18          151   \n56                            6                     279         2735   \n58                            0                       1           40   \n59                            6                     114         1541   \n61                            1                      27          162   \n62                           13                     310         2980   \n64                            0                      14          106   \n65                           11                     170         1917   \n67                            1                      36          206   \n68                            4                     296         3071   \n70                            0                       7           95   \n71                           17                     200         1838   \n\n    arrest_rate_gt  day       date  post_treatment  treatment  \n1       248.594593   01 2019-04-01               0          0  \n2       442.697008   01 2019-04-01               0          1  \n4        72.428442   01 2020-04-01               0          0  \n5       214.176593   01 2020-04-01               0          1  \n7       231.644962   01 2019-08-01               0          0  \n8       475.758669   01 2019-08-01               0          1  \n10       87.749843   01 2020-08-01               1          0  \n11      255.249699   01 2020-08-01               1          1  \n13      258.481878   01 2019-12-01               0          0  \n14      380.963617   01 2019-12-01               0          1  \n16      108.642663   01 2020-12-01               1          0  \n17      255.249699   01 2020-12-01               1          1  \n19      218.932738   01 2019-02-01               0          0  \n20      405.382603   01 2019-02-01               0          1  \n22      225.642454   01 2020-02-01               0          0  \n23      392.024497   01 2020-02-01               0          1  \n25      155.371621   01 2019-01-01               0          0  \n26      438.169893   01 2019-01-01               0          1  \n28      200.571070   01 2020-01-01               0          0  \n29      461.157448   01 2020-01-01               0          1  \n31      185.033476   01 2019-07-01               0          0  \n32      451.476868   01 2019-07-01               0          1  \n34      105.856954   01 2020-07-01               1          0  \n35      232.476491   01 2020-07-01               1          1  \n37      209.045453   01 2019-06-01               0          0  \n38      422.256397   01 2019-06-01               0          1  \n40       86.356989   01 2020-06-01               1          0  \n41      229.494286   01 2020-06-01               1          1  \n43      240.119777   01 2019-03-01               0          0  \n44      419.512690   01 2019-03-01               0          1  \n46      151.821157   01 2020-03-01               0          0  \n47      319.367122   01 2020-03-01               0          1  \n49      221.757677   01 2019-05-01               0          0  \n50      453.671834   01 2019-05-01               0          1  \n52       83.571279   01 2020-05-01               0          0  \n53      323.433766   01 2020-05-01               0          1  \n55      213.282861   01 2019-11-01               0          0  \n56      375.201834   01 2019-11-01               0          1  \n58       55.714186   01 2020-11-01               1          0  \n59      208.889955   01 2020-11-01               1          1  \n61      228.820023   01 2019-10-01               0          0  \n62      408.812236   01 2019-10-01               0          1  \n64      147.642593   01 2020-10-01               1          0  \n65      259.858562   01 2020-10-01               1          1  \n67      290.968671   01 2019-09-01               0          0  \n68      421.296099   01 2019-09-01               0          1  \n70      132.321192   01 2020-09-01               1          0  \n71      249.149732   01 2020-09-01               1          1  \n\n[48 rows x 44 columns]",
      "text/html": "<div>\n<style scoped>\n    .dataframe tbody tr th:only-of-type {\n        vertical-align: middle;\n    }\n\n    .dataframe tbody tr th {\n        vertical-align: top;\n    }\n\n    .dataframe thead th {\n        text-align: right;\n    }\n</style>\n<table border=\"1\" class=\"dataframe\">\n  <thead>\n    <tr style=\"text-align: right;\">\n      <th></th>\n      <th>month</th>\n      <th>year</th>\n      <th>fips_state_county_code</th>\n      <th>population</th>\n      <th>fraud_tot_arrests</th>\n      <th>weapons_tot_arrests</th>\n      <th>gamble_bookmake_tot_arrests</th>\n      <th>drunkenness_tot_arrests</th>\n      <th>curfew_loiter_tot_arrests</th>\n      <th>poss_drug_total_tot_arrests</th>\n      <th>...</th>\n      <th>theft_tot_arrests</th>\n      <th>sale_synth_narc_tot_arrests</th>\n      <th>sale_other_drug_tot_arrests</th>\n      <th>total_drug_tot_arrests</th>\n      <th>grand_total</th>\n      <th>arrest_rate_gt</th>\n      <th>day</th>\n      <th>date</th>\n      <th>post_treatment</th>\n      <th>treatment</th>\n    </tr>\n  </thead>\n  <tbody>\n    <tr>\n      <th>1</th>\n      <td>April</td>\n      <td>2019</td>\n      <td>08014</td>\n      <td>70798</td>\n      <td>6</td>\n      <td>0</td>\n      <td>0</td>\n      <td>0</td>\n      <td>0</td>\n      <td>21</td>\n      <td>...</td>\n      <td>43</td>\n      <td>0</td>\n      <td>4</td>\n      <td>26</td>\n      <td>176</td>\n      <td>248.594593</td>\n      <td>01</td>\n      <td>2019-04-01</td>\n      <td>0</td>\n      <td>0</td>\n    </tr>\n    <tr>\n      <th>2</th>\n      <td>April</td>\n      <td>2019</td>\n      <td>08031</td>\n      <td>728941</td>\n      <td>33</td>\n      <td>73</td>\n      <td>0</td>\n      <td>0</td>\n      <td>26</td>\n      <td>306</td>\n      <td>...</td>\n      <td>196</td>\n      <td>1</td>\n      <td>5</td>\n      <td>350</td>\n      <td>3227</td>\n      <td>442.697008</td>\n      <td>01</td>\n      <td>2019-04-01</td>\n      <td>0</td>\n      <td>1</td>\n    </tr>\n    <tr>\n      <th>4</th>\n      <td>April</td>\n      <td>2020</td>\n      <td>08014</td>\n      <td>71795</td>\n      <td>2</td>\n      <td>1</td>\n      <td>0</td>\n      <td>0</td>\n      <td>0</td>\n      <td>2</td>\n      <td>...</td>\n      <td>18</td>\n      <td>0</td>\n      <td>0</td>\n      <td>3</td>\n      <td>52</td>\n      <td>72.428442</td>\n      <td>01</td>\n      <td>2020-04-01</td>\n      <td>0</td>\n      <td>0</td>\n    </tr>\n    <tr>\n      <th>5</th>\n      <td>April</td>\n      <td>2020</td>\n      <td>08031</td>\n      <td>737709</td>\n      <td>18</td>\n      <td>62</td>\n      <td>0</td>\n      <td>0</td>\n      <td>7</td>\n      <td>89</td>\n      <td>...</td>\n      <td>166</td>\n      <td>0</td>\n      <td>5</td>\n      <td>111</td>\n      <td>1580</td>\n      <td>214.176593</td>\n      <td>01</td>\n      <td>2020-04-01</td>\n      <td>0</td>\n      <td>1</td>\n    </tr>\n    <tr>\n      <th>7</th>\n      <td>August</td>\n      <td>2019</td>\n      <td>08014</td>\n      <td>70798</td>\n      <td>7</td>\n      <td>0</td>\n      <td>0</td>\n      <td>0</td>\n      <td>0</td>\n      <td>15</td>\n      <td>...</td>\n      <td>20</td>\n      <td>0</td>\n      <td>2</td>\n      <td>18</td>\n      <td>164</td>\n      <td>231.644962</td>\n      <td>01</td>\n      <td>2019-08-01</td>\n      <td>0</td>\n      <td>0</td>\n    </tr>\n    <tr>\n      <th>8</th>\n      <td>August</td>\n      <td>2019</td>\n      <td>08031</td>\n      <td>728941</td>\n      <td>33</td>\n      <td>89</td>\n      <td>0</td>\n      <td>0</td>\n      <td>19</td>\n      <td>289</td>\n      <td>...</td>\n      <td>245</td>\n      <td>0</td>\n      <td>14</td>\n      <td>360</td>\n      <td>3468</td>\n      <td>475.758669</td>\n      <td>01</td>\n      <td>2019-08-01</td>\n      <td>0</td>\n      <td>1</td>\n    </tr>\n    <tr>\n      <th>10</th>\n      <td>August</td>\n      <td>2020</td>\n      <td>08014</td>\n      <td>71795</td>\n      <td>5</td>\n      <td>0</td>\n      <td>0</td>\n      <td>0</td>\n      <td>0</td>\n      <td>3</td>\n      <td>...</td>\n      <td>16</td>\n      <td>0</td>\n      <td>0</td>\n      <td>3</td>\n      <td>63</td>\n      <td>87.749843</td>\n      <td>01</td>\n      <td>2020-08-01</td>\n      <td>1</td>\n      <td>0</td>\n    </tr>\n    <tr>\n      <th>11</th>\n      <td>August</td>\n      <td>2020</td>\n      <td>08031</td>\n      <td>737709</td>\n      <td>13</td>\n      <td>68</td>\n      <td>0</td>\n      <td>0</td>\n      <td>15</td>\n      <td>140</td>\n      <td>...</td>\n      <td>105</td>\n      <td>0</td>\n      <td>11</td>\n      <td>174</td>\n      <td>1883</td>\n      <td>255.249699</td>\n      <td>01</td>\n      <td>2020-08-01</td>\n      <td>1</td>\n      <td>1</td>\n    </tr>\n    <tr>\n      <th>13</th>\n      <td>December</td>\n      <td>2019</td>\n      <td>08014</td>\n      <td>70798</td>\n      <td>6</td>\n      <td>1</td>\n      <td>0</td>\n      <td>0</td>\n      <td>0</td>\n      <td>27</td>\n      <td>...</td>\n      <td>39</td>\n      <td>0</td>\n      <td>0</td>\n      <td>31</td>\n      <td>183</td>\n      <td>258.481878</td>\n      <td>01</td>\n      <td>2019-12-01</td>\n      <td>0</td>\n      <td>0</td>\n    </tr>\n    <tr>\n      <th>14</th>\n      <td>December</td>\n      <td>2019</td>\n      <td>08031</td>\n      <td>728941</td>\n      <td>23</td>\n      <td>56</td>\n      <td>0</td>\n      <td>0</td>\n      <td>0</td>\n      <td>231</td>\n      <td>...</td>\n      <td>188</td>\n      <td>0</td>\n      <td>6</td>\n      <td>277</td>\n      <td>2777</td>\n      <td>380.963617</td>\n      <td>01</td>\n      <td>2019-12-01</td>\n      <td>0</td>\n      <td>1</td>\n    </tr>\n    <tr>\n      <th>16</th>\n      <td>December</td>\n      <td>2020</td>\n      <td>08014</td>\n      <td>71795</td>\n      <td>2</td>\n      <td>5</td>\n      <td>0</td>\n      <td>0</td>\n      <td>0</td>\n      <td>6</td>\n      <td>...</td>\n      <td>17</td>\n      <td>0</td>\n      <td>1</td>\n      <td>7</td>\n      <td>78</td>\n      <td>108.642663</td>\n      <td>01</td>\n      <td>2020-12-01</td>\n      <td>1</td>\n      <td>0</td>\n    </tr>\n    <tr>\n      <th>17</th>\n      <td>December</td>\n      <td>2020</td>\n      <td>08031</td>\n      <td>737709</td>\n      <td>18</td>\n      <td>68</td>\n      <td>0</td>\n      <td>0</td>\n      <td>1</td>\n      <td>138</td>\n      <td>...</td>\n      <td>145</td>\n      <td>2</td>\n      <td>18</td>\n      <td>185</td>\n      <td>1883</td>\n      <td>255.249699</td>\n      <td>01</td>\n      <td>2020-12-01</td>\n      <td>1</td>\n      <td>1</td>\n    </tr>\n    <tr>\n      <th>19</th>\n      <td>February</td>\n      <td>2019</td>\n      <td>08014</td>\n      <td>70798</td>\n      <td>9</td>\n      <td>3</td>\n      <td>0</td>\n      <td>0</td>\n      <td>0</td>\n      <td>23</td>\n      <td>...</td>\n      <td>23</td>\n      <td>0</td>\n      <td>1</td>\n      <td>24</td>\n      <td>155</td>\n      <td>218.932738</td>\n      <td>01</td>\n      <td>2019-02-01</td>\n      <td>0</td>\n      <td>0</td>\n    </tr>\n    <tr>\n      <th>20</th>\n      <td>February</td>\n      <td>2019</td>\n      <td>08031</td>\n      <td>728941</td>\n      <td>38</td>\n      <td>79</td>\n      <td>0</td>\n      <td>0</td>\n      <td>1</td>\n      <td>294</td>\n      <td>...</td>\n      <td>221</td>\n      <td>2</td>\n      <td>6</td>\n      <td>343</td>\n      <td>2955</td>\n      <td>405.382603</td>\n      <td>01</td>\n      <td>2019-02-01</td>\n      <td>0</td>\n      <td>1</td>\n    </tr>\n    <tr>\n      <th>22</th>\n      <td>February</td>\n      <td>2020</td>\n      <td>08014</td>\n      <td>71795</td>\n      <td>3</td>\n      <td>0</td>\n      <td>0</td>\n      <td>0</td>\n      <td>0</td>\n      <td>27</td>\n      <td>...</td>\n      <td>29</td>\n      <td>0</td>\n      <td>0</td>\n      <td>29</td>\n      <td>162</td>\n      <td>225.642454</td>\n      <td>01</td>\n      <td>2020-02-01</td>\n      <td>0</td>\n      <td>0</td>\n    </tr>\n    <tr>\n      <th>23</th>\n      <td>February</td>\n      <td>2020</td>\n      <td>08031</td>\n      <td>737709</td>\n      <td>28</td>\n      <td>72</td>\n      <td>0</td>\n      <td>1</td>\n      <td>0</td>\n      <td>221</td>\n      <td>...</td>\n      <td>193</td>\n      <td>1</td>\n      <td>18</td>\n      <td>305</td>\n      <td>2892</td>\n      <td>392.024497</td>\n      <td>01</td>\n      <td>2020-02-01</td>\n      <td>0</td>\n      <td>1</td>\n    </tr>\n    <tr>\n      <th>25</th>\n      <td>January</td>\n      <td>2019</td>\n      <td>08014</td>\n      <td>70798</td>\n      <td>2</td>\n      <td>3</td>\n      <td>0</td>\n      <td>0</td>\n      <td>0</td>\n      <td>13</td>\n      <td>...</td>\n      <td>12</td>\n      <td>0</td>\n      <td>0</td>\n      <td>13</td>\n      <td>110</td>\n      <td>155.371621</td>\n      <td>01</td>\n      <td>2019-01-01</td>\n      <td>0</td>\n      <td>0</td>\n    </tr>\n    <tr>\n      <th>26</th>\n      <td>January</td>\n      <td>2019</td>\n      <td>08031</td>\n      <td>728941</td>\n      <td>34</td>\n      <td>72</td>\n      <td>0</td>\n      <td>0</td>\n      <td>0</td>\n      <td>358</td>\n      <td>...</td>\n      <td>237</td>\n      <td>0</td>\n      <td>12</td>\n      <td>414</td>\n      <td>3194</td>\n      <td>438.169893</td>\n      <td>01</td>\n      <td>2019-01-01</td>\n      <td>0</td>\n      <td>1</td>\n    </tr>\n    <tr>\n      <th>28</th>\n      <td>January</td>\n      <td>2020</td>\n      <td>08014</td>\n      <td>71795</td>\n      <td>6</td>\n      <td>0</td>\n      <td>0</td>\n      <td>0</td>\n      <td>0</td>\n      <td>19</td>\n      <td>...</td>\n      <td>27</td>\n      <td>0</td>\n      <td>1</td>\n      <td>21</td>\n      <td>144</td>\n      <td>200.571070</td>\n      <td>01</td>\n      <td>2020-01-01</td>\n      <td>0</td>\n      <td>0</td>\n    </tr>\n    <tr>\n      <th>29</th>\n      <td>January</td>\n      <td>2020</td>\n      <td>08031</td>\n      <td>737709</td>\n      <td>38</td>\n      <td>99</td>\n      <td>0</td>\n      <td>0</td>\n      <td>7</td>\n      <td>305</td>\n      <td>...</td>\n      <td>213</td>\n      <td>0</td>\n      <td>16</td>\n      <td>359</td>\n      <td>3402</td>\n      <td>461.157448</td>\n      <td>01</td>\n      <td>2020-01-01</td>\n      <td>0</td>\n      <td>1</td>\n    </tr>\n    <tr>\n      <th>31</th>\n      <td>July</td>\n      <td>2019</td>\n      <td>08014</td>\n      <td>70798</td>\n      <td>3</td>\n      <td>0</td>\n      <td>0</td>\n      <td>0</td>\n      <td>0</td>\n      <td>14</td>\n      <td>...</td>\n      <td>34</td>\n      <td>0</td>\n      <td>0</td>\n      <td>14</td>\n      <td>131</td>\n      <td>185.033476</td>\n      <td>01</td>\n      <td>2019-07-01</td>\n      <td>0</td>\n      <td>0</td>\n    </tr>\n    <tr>\n      <th>32</th>\n      <td>July</td>\n      <td>2019</td>\n      <td>08031</td>\n      <td>728941</td>\n      <td>42</td>\n      <td>77</td>\n      <td>0</td>\n      <td>0</td>\n      <td>36</td>\n      <td>302</td>\n      <td>...</td>\n      <td>229</td>\n      <td>0</td>\n      <td>22</td>\n      <td>373</td>\n      <td>3291</td>\n      <td>451.476868</td>\n      <td>01</td>\n      <td>2019-07-01</td>\n      <td>0</td>\n      <td>1</td>\n    </tr>\n    <tr>\n      <th>34</th>\n      <td>July</td>\n      <td>2020</td>\n      <td>08014</td>\n      <td>71795</td>\n      <td>0</td>\n      <td>0</td>\n      <td>0</td>\n      <td>0</td>\n      <td>0</td>\n      <td>4</td>\n      <td>...</td>\n      <td>25</td>\n      <td>0</td>\n      <td>0</td>\n      <td>5</td>\n      <td>76</td>\n      <td>105.856954</td>\n      <td>01</td>\n      <td>2020-07-01</td>\n      <td>1</td>\n      <td>0</td>\n    </tr>\n    <tr>\n      <th>35</th>\n      <td>July</td>\n      <td>2020</td>\n      <td>08031</td>\n      <td>737709</td>\n      <td>20</td>\n      <td>61</td>\n      <td>0</td>\n      <td>0</td>\n      <td>12</td>\n      <td>120</td>\n      <td>...</td>\n      <td>84</td>\n      <td>0</td>\n      <td>14</td>\n      <td>157</td>\n      <td>1715</td>\n      <td>232.476491</td>\n      <td>01</td>\n      <td>2020-07-01</td>\n      <td>1</td>\n      <td>1</td>\n    </tr>\n    <tr>\n      <th>37</th>\n      <td>June</td>\n      <td>2019</td>\n      <td>08014</td>\n      <td>70798</td>\n      <td>0</td>\n      <td>0</td>\n      <td>0</td>\n      <td>0</td>\n      <td>0</td>\n      <td>21</td>\n      <td>...</td>\n      <td>42</td>\n      <td>0</td>\n      <td>0</td>\n      <td>22</td>\n      <td>148</td>\n      <td>209.045453</td>\n      <td>01</td>\n      <td>2019-06-01</td>\n      <td>0</td>\n      <td>0</td>\n    </tr>\n    <tr>\n      <th>38</th>\n      <td>June</td>\n      <td>2019</td>\n      <td>08031</td>\n      <td>728941</td>\n      <td>20</td>\n      <td>65</td>\n      <td>0</td>\n      <td>0</td>\n      <td>46</td>\n      <td>273</td>\n      <td>...</td>\n      <td>194</td>\n      <td>0</td>\n      <td>16</td>\n      <td>347</td>\n      <td>3078</td>\n      <td>422.256397</td>\n      <td>01</td>\n      <td>2019-06-01</td>\n      <td>0</td>\n      <td>1</td>\n    </tr>\n    <tr>\n      <th>40</th>\n      <td>June</td>\n      <td>2020</td>\n      <td>08014</td>\n      <td>71795</td>\n      <td>0</td>\n      <td>1</td>\n      <td>0</td>\n      <td>0</td>\n      <td>0</td>\n      <td>6</td>\n      <td>...</td>\n      <td>12</td>\n      <td>0</td>\n      <td>0</td>\n      <td>6</td>\n      <td>62</td>\n      <td>86.356989</td>\n      <td>01</td>\n      <td>2020-06-01</td>\n      <td>1</td>\n      <td>0</td>\n    </tr>\n    <tr>\n      <th>41</th>\n      <td>June</td>\n      <td>2020</td>\n      <td>08031</td>\n      <td>737709</td>\n      <td>17</td>\n      <td>78</td>\n      <td>0</td>\n      <td>0</td>\n      <td>15</td>\n      <td>70</td>\n      <td>...</td>\n      <td>129</td>\n      <td>1</td>\n      <td>8</td>\n      <td>92</td>\n      <td>1693</td>\n      <td>229.494286</td>\n      <td>01</td>\n      <td>2020-06-01</td>\n      <td>1</td>\n      <td>1</td>\n    </tr>\n    <tr>\n      <th>43</th>\n      <td>March</td>\n      <td>2019</td>\n      <td>08014</td>\n      <td>70798</td>\n      <td>7</td>\n      <td>3</td>\n      <td>0</td>\n      <td>0</td>\n      <td>0</td>\n      <td>25</td>\n      <td>...</td>\n      <td>17</td>\n      <td>0</td>\n      <td>2</td>\n      <td>31</td>\n      <td>170</td>\n      <td>240.119777</td>\n      <td>01</td>\n      <td>2019-03-01</td>\n      <td>0</td>\n      <td>0</td>\n    </tr>\n    <tr>\n      <th>44</th>\n      <td>March</td>\n      <td>2019</td>\n      <td>08031</td>\n      <td>728941</td>\n      <td>31</td>\n      <td>74</td>\n      <td>0</td>\n      <td>0</td>\n      <td>4</td>\n      <td>287</td>\n      <td>...</td>\n      <td>226</td>\n      <td>0</td>\n      <td>12</td>\n      <td>329</td>\n      <td>3058</td>\n      <td>419.512690</td>\n      <td>01</td>\n      <td>2019-03-01</td>\n      <td>0</td>\n      <td>1</td>\n    </tr>\n    <tr>\n      <th>46</th>\n      <td>March</td>\n      <td>2020</td>\n      <td>08014</td>\n      <td>71795</td>\n      <td>3</td>\n      <td>1</td>\n      <td>0</td>\n      <td>0</td>\n      <td>0</td>\n      <td>17</td>\n      <td>...</td>\n      <td>16</td>\n      <td>0</td>\n      <td>1</td>\n      <td>18</td>\n      <td>109</td>\n      <td>151.821157</td>\n      <td>01</td>\n      <td>2020-03-01</td>\n      <td>0</td>\n      <td>0</td>\n    </tr>\n    <tr>\n      <th>47</th>\n      <td>March</td>\n      <td>2020</td>\n      <td>08031</td>\n      <td>737709</td>\n      <td>19</td>\n      <td>57</td>\n      <td>0</td>\n      <td>0</td>\n      <td>4</td>\n      <td>159</td>\n      <td>...</td>\n      <td>180</td>\n      <td>0</td>\n      <td>14</td>\n      <td>208</td>\n      <td>2356</td>\n      <td>319.367122</td>\n      <td>01</td>\n      <td>2020-03-01</td>\n      <td>0</td>\n      <td>1</td>\n    </tr>\n    <tr>\n      <th>49</th>\n      <td>May</td>\n      <td>2019</td>\n      <td>08014</td>\n      <td>70798</td>\n      <td>4</td>\n      <td>3</td>\n      <td>0</td>\n      <td>0</td>\n      <td>0</td>\n      <td>20</td>\n      <td>...</td>\n      <td>34</td>\n      <td>0</td>\n      <td>0</td>\n      <td>20</td>\n      <td>157</td>\n      <td>221.757677</td>\n      <td>01</td>\n      <td>2019-05-01</td>\n      <td>0</td>\n      <td>0</td>\n    </tr>\n    <tr>\n      <th>50</th>\n      <td>May</td>\n      <td>2019</td>\n      <td>08031</td>\n      <td>728941</td>\n      <td>24</td>\n      <td>62</td>\n      <td>0</td>\n      <td>0</td>\n      <td>40</td>\n      <td>328</td>\n      <td>...</td>\n      <td>180</td>\n      <td>1</td>\n      <td>12</td>\n      <td>373</td>\n      <td>3307</td>\n      <td>453.671834</td>\n      <td>01</td>\n      <td>2019-05-01</td>\n      <td>0</td>\n      <td>1</td>\n    </tr>\n    <tr>\n      <th>52</th>\n      <td>May</td>\n      <td>2020</td>\n      <td>08014</td>\n      <td>71795</td>\n      <td>4</td>\n      <td>1</td>\n      <td>0</td>\n      <td>0</td>\n      <td>0</td>\n      <td>1</td>\n      <td>...</td>\n      <td>18</td>\n      <td>0</td>\n      <td>0</td>\n      <td>1</td>\n      <td>60</td>\n      <td>83.571279</td>\n      <td>01</td>\n      <td>2020-05-01</td>\n      <td>0</td>\n      <td>0</td>\n    </tr>\n    <tr>\n      <th>53</th>\n      <td>May</td>\n      <td>2020</td>\n      <td>08031</td>\n      <td>737709</td>\n      <td>26</td>\n      <td>85</td>\n      <td>0</td>\n      <td>0</td>\n      <td>30</td>\n      <td>174</td>\n      <td>...</td>\n      <td>148</td>\n      <td>2</td>\n      <td>11</td>\n      <td>221</td>\n      <td>2386</td>\n      <td>323.433766</td>\n      <td>01</td>\n      <td>2020-05-01</td>\n      <td>0</td>\n      <td>1</td>\n    </tr>\n    <tr>\n      <th>55</th>\n      <td>November</td>\n      <td>2019</td>\n      <td>08014</td>\n      <td>70798</td>\n      <td>8</td>\n      <td>2</td>\n      <td>0</td>\n      <td>0</td>\n      <td>0</td>\n      <td>17</td>\n      <td>...</td>\n      <td>43</td>\n      <td>0</td>\n      <td>1</td>\n      <td>18</td>\n      <td>151</td>\n      <td>213.282861</td>\n      <td>01</td>\n      <td>2019-11-01</td>\n      <td>0</td>\n      <td>0</td>\n    </tr>\n    <tr>\n      <th>56</th>\n      <td>November</td>\n      <td>2019</td>\n      <td>08031</td>\n      <td>728941</td>\n      <td>19</td>\n      <td>76</td>\n      <td>0</td>\n      <td>0</td>\n      <td>0</td>\n      <td>231</td>\n      <td>...</td>\n      <td>212</td>\n      <td>2</td>\n      <td>6</td>\n      <td>279</td>\n      <td>2735</td>\n      <td>375.201834</td>\n      <td>01</td>\n      <td>2019-11-01</td>\n      <td>0</td>\n      <td>1</td>\n    </tr>\n    <tr>\n      <th>58</th>\n      <td>November</td>\n      <td>2020</td>\n      <td>08014</td>\n      <td>71795</td>\n      <td>1</td>\n      <td>1</td>\n      <td>0</td>\n      <td>0</td>\n      <td>0</td>\n      <td>1</td>\n      <td>...</td>\n      <td>14</td>\n      <td>0</td>\n      <td>0</td>\n      <td>1</td>\n      <td>40</td>\n      <td>55.714186</td>\n      <td>01</td>\n      <td>2020-11-01</td>\n      <td>1</td>\n      <td>0</td>\n    </tr>\n    <tr>\n      <th>59</th>\n      <td>November</td>\n      <td>2020</td>\n      <td>08031</td>\n      <td>737709</td>\n      <td>18</td>\n      <td>47</td>\n      <td>0</td>\n      <td>0</td>\n      <td>3</td>\n      <td>94</td>\n      <td>...</td>\n      <td>93</td>\n      <td>0</td>\n      <td>6</td>\n      <td>114</td>\n      <td>1541</td>\n      <td>208.889955</td>\n      <td>01</td>\n      <td>2020-11-01</td>\n      <td>1</td>\n      <td>1</td>\n    </tr>\n    <tr>\n      <th>61</th>\n      <td>October</td>\n      <td>2019</td>\n      <td>08014</td>\n      <td>70798</td>\n      <td>12</td>\n      <td>2</td>\n      <td>0</td>\n      <td>0</td>\n      <td>0</td>\n      <td>23</td>\n      <td>...</td>\n      <td>31</td>\n      <td>0</td>\n      <td>1</td>\n      <td>27</td>\n      <td>162</td>\n      <td>228.820023</td>\n      <td>01</td>\n      <td>2019-10-01</td>\n      <td>0</td>\n      <td>0</td>\n    </tr>\n    <tr>\n      <th>62</th>\n      <td>October</td>\n      <td>2019</td>\n      <td>08031</td>\n      <td>728941</td>\n      <td>30</td>\n      <td>62</td>\n      <td>0</td>\n      <td>0</td>\n      <td>4</td>\n      <td>237</td>\n      <td>...</td>\n      <td>217</td>\n      <td>1</td>\n      <td>13</td>\n      <td>310</td>\n      <td>2980</td>\n      <td>408.812236</td>\n      <td>01</td>\n      <td>2019-10-01</td>\n      <td>0</td>\n      <td>1</td>\n    </tr>\n    <tr>\n      <th>64</th>\n      <td>October</td>\n      <td>2020</td>\n      <td>08014</td>\n      <td>71795</td>\n      <td>7</td>\n      <td>1</td>\n      <td>0</td>\n      <td>0</td>\n      <td>0</td>\n      <td>14</td>\n      <td>...</td>\n      <td>15</td>\n      <td>0</td>\n      <td>0</td>\n      <td>14</td>\n      <td>106</td>\n      <td>147.642593</td>\n      <td>01</td>\n      <td>2020-10-01</td>\n      <td>1</td>\n      <td>0</td>\n    </tr>\n    <tr>\n      <th>65</th>\n      <td>October</td>\n      <td>2020</td>\n      <td>08031</td>\n      <td>737709</td>\n      <td>14</td>\n      <td>66</td>\n      <td>0</td>\n      <td>0</td>\n      <td>0</td>\n      <td>124</td>\n      <td>...</td>\n      <td>115</td>\n      <td>2</td>\n      <td>11</td>\n      <td>170</td>\n      <td>1917</td>\n      <td>259.858562</td>\n      <td>01</td>\n      <td>2020-10-01</td>\n      <td>1</td>\n      <td>1</td>\n    </tr>\n    <tr>\n      <th>67</th>\n      <td>September</td>\n      <td>2019</td>\n      <td>08014</td>\n      <td>70798</td>\n      <td>6</td>\n      <td>2</td>\n      <td>0</td>\n      <td>0</td>\n      <td>0</td>\n      <td>32</td>\n      <td>...</td>\n      <td>26</td>\n      <td>0</td>\n      <td>1</td>\n      <td>36</td>\n      <td>206</td>\n      <td>290.968671</td>\n      <td>01</td>\n      <td>2019-09-01</td>\n      <td>0</td>\n      <td>0</td>\n    </tr>\n    <tr>\n      <th>68</th>\n      <td>September</td>\n      <td>2019</td>\n      <td>08031</td>\n      <td>728941</td>\n      <td>26</td>\n      <td>89</td>\n      <td>0</td>\n      <td>0</td>\n      <td>25</td>\n      <td>241</td>\n      <td>...</td>\n      <td>220</td>\n      <td>1</td>\n      <td>4</td>\n      <td>296</td>\n      <td>3071</td>\n      <td>421.296099</td>\n      <td>01</td>\n      <td>2019-09-01</td>\n      <td>0</td>\n      <td>1</td>\n    </tr>\n    <tr>\n      <th>70</th>\n      <td>September</td>\n      <td>2020</td>\n      <td>08014</td>\n      <td>71795</td>\n      <td>0</td>\n      <td>1</td>\n      <td>0</td>\n      <td>0</td>\n      <td>0</td>\n      <td>7</td>\n      <td>...</td>\n      <td>27</td>\n      <td>0</td>\n      <td>0</td>\n      <td>7</td>\n      <td>95</td>\n      <td>132.321192</td>\n      <td>01</td>\n      <td>2020-09-01</td>\n      <td>1</td>\n      <td>0</td>\n    </tr>\n    <tr>\n      <th>71</th>\n      <td>September</td>\n      <td>2020</td>\n      <td>08031</td>\n      <td>737709</td>\n      <td>23</td>\n      <td>77</td>\n      <td>0</td>\n      <td>0</td>\n      <td>2</td>\n      <td>143</td>\n      <td>...</td>\n      <td>93</td>\n      <td>0</td>\n      <td>17</td>\n      <td>200</td>\n      <td>1838</td>\n      <td>249.149732</td>\n      <td>01</td>\n      <td>2020-09-01</td>\n      <td>1</td>\n      <td>1</td>\n    </tr>\n  </tbody>\n</table>\n<p>48 rows × 44 columns</p>\n</div>"
     },
     "execution_count": 223,
     "metadata": {},
     "output_type": "execute_result"
    }
   ],
   "source": [
    "non_violent_df"
   ],
   "metadata": {
    "collapsed": false,
    "pycharm": {
     "name": "#%%\n"
    }
   }
  },
  {
   "cell_type": "markdown",
   "source": [
    "# Modeling"
   ],
   "metadata": {
    "collapsed": false,
    "pycharm": {
     "name": "#%% md\n"
    }
   }
  },
  {
   "cell_type": "code",
   "execution_count": 224,
   "outputs": [
    {
     "name": "stdout",
     "output_type": "stream",
     "text": [
      "                            OLS Regression Results                            \n",
      "==============================================================================\n",
      "Dep. Variable:         arrest_rate_gt   R-squared:                       0.814\n",
      "Model:                            OLS   Adj. R-squared:                  0.802\n",
      "Method:                 Least Squares   F-statistic:                     64.28\n",
      "Date:                Sat, 02 Apr 2022   Prob (F-statistic):           4.04e-16\n",
      "Time:                        13:12:24   Log-Likelihood:                -257.60\n",
      "No. Observations:                  48   AIC:                             523.2\n",
      "Df Residuals:                      44   BIC:                             530.7\n",
      "Df Model:                           3                                         \n",
      "Covariance Type:            nonrobust                                         \n",
      "============================================================================================\n",
      "                               coef    std err          t      P>|t|      [0.025      0.975]\n",
      "--------------------------------------------------------------------------------------------\n",
      "Intercept                  202.1228     13.127     15.397      0.000     175.667     228.579\n",
      "treatment                  198.1924     18.565     10.676      0.000     160.778     235.607\n",
      "post_treatment             -98.6536     24.307     -4.059      0.000    -147.641     -49.667\n",
      "treatment:post_treatment   -60.1804     34.375     -1.751      0.087    -129.458       9.098\n",
      "==============================================================================\n",
      "Omnibus:                       20.331   Durbin-Watson:                   1.602\n",
      "Prob(Omnibus):                  0.000   Jarque-Bera (JB):               28.993\n",
      "Skew:                          -1.402   Prob(JB):                     5.06e-07\n",
      "Kurtosis:                       5.575   Cond. No.                         6.36\n",
      "==============================================================================\n",
      "\n",
      "Notes:\n",
      "[1] Standard Errors assume that the covariance matrix of the errors is correctly specified.\n"
     ]
    }
   ],
   "source": [
    "model = smf.ols('arrest_rate_gt ~ treatment + post_treatment + treatment * post_treatment',\n",
    "                data=non_violent_df).fit()\n",
    "\n",
    "print(model.summary())"
   ],
   "metadata": {
    "collapsed": false,
    "pycharm": {
     "name": "#%%\n"
    }
   }
  },
  {
   "cell_type": "code",
   "execution_count": null,
   "outputs": [],
   "source": [],
   "metadata": {
    "collapsed": false,
    "pycharm": {
     "name": "#%%\n"
    }
   }
  }
 ],
 "metadata": {
  "kernelspec": {
   "display_name": "Python 3",
   "language": "python",
   "name": "python3"
  },
  "language_info": {
   "codemirror_mode": {
    "name": "ipython",
    "version": 2
   },
   "file_extension": ".py",
   "mimetype": "text/x-python",
   "name": "python",
   "nbconvert_exporter": "python",
   "pygments_lexer": "ipython2",
   "version": "2.7.6"
  }
 },
 "nbformat": 4,
 "nbformat_minor": 0
}